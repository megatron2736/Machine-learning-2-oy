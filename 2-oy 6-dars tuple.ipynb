{
 "cells": [
  {
   "cell_type": "code",
   "execution_count": 30,
   "id": "72cc5c5a-0525-4dbc-891c-c04ea7edaefa",
   "metadata": {},
   "outputs": [],
   "source": [
    "# 1 Darsdagilarni yangi sonlar orqali takrorlash\n",
    "#2 List va Setdagi misollarni tuplega qo'yib ishlash\n",
    "#3 Jadval tuzish(list, set, tuple)--- Pnadas. Tabular data table "
   ]
  },
  {
   "cell_type": "markdown",
   "id": "f40fa0c4-1a8e-4936-81a9-91b68ae9d035",
   "metadata": {},
   "source": [
    "# Tuple yaratish"
   ]
  },
  {
   "cell_type": "code",
   "execution_count": 15,
   "id": "f73ab049-d72a-4046-821e-3458a4780397",
   "metadata": {},
   "outputs": [],
   "source": [
    "mix_tuple=('Fitrat', 5, 6, 7, True)"
   ]
  },
  {
   "cell_type": "code",
   "execution_count": 17,
   "id": "25c42f9e-d6c6-4c96-8e0d-244050185a25",
   "metadata": {},
   "outputs": [
    {
     "data": {
      "text/plain": [
       "('Fitrat', 5, 6, 7, True)"
      ]
     },
     "execution_count": 17,
     "metadata": {},
     "output_type": "execute_result"
    }
   ],
   "source": [
    "mix_tuple"
   ]
  },
  {
   "cell_type": "markdown",
   "id": "83e891b8-4409-4e36-80e0-ce0261c3a921",
   "metadata": {},
   "source": [
    "# tuple indexing "
   ]
  },
  {
   "cell_type": "code",
   "execution_count": 21,
   "id": "81954a22-abd5-4325-ba1f-8e95058a35c5",
   "metadata": {},
   "outputs": [
    {
     "data": {
      "text/plain": [
       "5"
      ]
     },
     "execution_count": 21,
     "metadata": {},
     "output_type": "execute_result"
    }
   ],
   "source": [
    "mix_tuple[1]"
   ]
  },
  {
   "cell_type": "code",
   "execution_count": 23,
   "id": "ffd544dd-fe99-45ff-908d-68a7fa61aaec",
   "metadata": {},
   "outputs": [],
   "source": [
    "second_tuple=(1)"
   ]
  },
  {
   "cell_type": "markdown",
   "id": "d75ac80a-ac53-4278-9963-19e61e75036a",
   "metadata": {},
   "source": [
    "# tuplening turini aniqlash"
   ]
  },
  {
   "cell_type": "code",
   "execution_count": 26,
   "id": "ec6caf4b-71f0-466a-b497-da0bd8b2371f",
   "metadata": {},
   "outputs": [
    {
     "data": {
      "text/plain": [
       "int"
      ]
     },
     "execution_count": 26,
     "metadata": {},
     "output_type": "execute_result"
    }
   ],
   "source": [
    "type(second_tuple)"
   ]
  },
  {
   "cell_type": "code",
   "execution_count": 28,
   "id": "360cd593-9a10-4dd3-b736-d36aec4fcbc7",
   "metadata": {},
   "outputs": [
    {
     "data": {
      "text/plain": [
       "tuple"
      ]
     },
     "execution_count": 28,
     "metadata": {},
     "output_type": "execute_result"
    }
   ],
   "source": [
    "type(mix_tuple)"
   ]
  },
  {
   "cell_type": "code",
   "execution_count": 32,
   "id": "def2a49a-1097-435e-8d4f-1b9ec77210c1",
   "metadata": {},
   "outputs": [],
   "source": [
    "# bir xil sonli tuple "
   ]
  },
  {
   "cell_type": "code",
   "execution_count": 34,
   "id": "16d8052b-a938-4590-960c-e4dde42d9c5c",
   "metadata": {},
   "outputs": [],
   "source": [
    "b=(5,6,5,7,5,8,5)"
   ]
  },
  {
   "cell_type": "code",
   "execution_count": 36,
   "id": "489f97cb-9053-42e2-bc96-ff76fb5fb4cb",
   "metadata": {},
   "outputs": [
    {
     "data": {
      "text/plain": [
       "(5, 6, 5, 7, 5, 8, 5)"
      ]
     },
     "execution_count": 36,
     "metadata": {},
     "output_type": "execute_result"
    }
   ],
   "source": [
    "b"
   ]
  },
  {
   "cell_type": "code",
   "execution_count": 38,
   "id": "7aecc0fb-f85b-4d30-8b25-dabb0fade9a9",
   "metadata": {},
   "outputs": [
    {
     "data": {
      "text/plain": [
       "6"
      ]
     },
     "execution_count": 38,
     "metadata": {},
     "output_type": "execute_result"
    }
   ],
   "source": [
    "b[1]"
   ]
  },
  {
   "cell_type": "code",
   "execution_count": 40,
   "id": "a896177c-45d0-4cce-8d74-3c520a2c2fea",
   "metadata": {},
   "outputs": [
    {
     "ename": "TypeError",
     "evalue": "'tuple' object does not support item assignment",
     "output_type": "error",
     "traceback": [
      "\u001b[1;31m---------------------------------------------------------------------------\u001b[0m",
      "\u001b[1;31mTypeError\u001b[0m                                 Traceback (most recent call last)",
      "Cell \u001b[1;32mIn[40], line 1\u001b[0m\n\u001b[1;32m----> 1\u001b[0m b[\u001b[38;5;241m1\u001b[39m]\u001b[38;5;241m=\u001b[39m\u001b[38;5;241m55\u001b[39m\n",
      "\u001b[1;31mTypeError\u001b[0m: 'tuple' object does not support item assignment"
     ]
    }
   ],
   "source": [
    "b[1]=55"
   ]
  },
  {
   "cell_type": "markdown",
   "id": "36ddd7f5-ecb4-4ad2-ae23-2edc1110944d",
   "metadata": {},
   "source": [
    "# tuplega yangi son qushish"
   ]
  },
  {
   "cell_type": "code",
   "execution_count": 42,
   "id": "37613c7e-8707-4f7e-81e8-86f94e884d6e",
   "metadata": {},
   "outputs": [],
   "source": [
    "b=b+(999,)"
   ]
  },
  {
   "cell_type": "code",
   "execution_count": 44,
   "id": "42264bff-5561-42f2-93b4-8340201e51fc",
   "metadata": {},
   "outputs": [
    {
     "data": {
      "text/plain": [
       "(5, 6, 5, 7, 5, 8, 5, 999)"
      ]
     },
     "execution_count": 44,
     "metadata": {},
     "output_type": "execute_result"
    }
   ],
   "source": [
    "b"
   ]
  },
  {
   "cell_type": "markdown",
   "id": "5f7929c2-bba3-4908-937a-88015068b6d3",
   "metadata": {},
   "source": [
    "# tupleni listga aylantirish"
   ]
  },
  {
   "cell_type": "code",
   "execution_count": 50,
   "id": "275b737a-f1d4-4a40-8b54-c4ebfa09397d",
   "metadata": {},
   "outputs": [],
   "source": [
    "c=list(b)"
   ]
  },
  {
   "cell_type": "code",
   "execution_count": 52,
   "id": "f72e3991-e4ee-4b1b-8cc2-b2e316564142",
   "metadata": {},
   "outputs": [
    {
     "data": {
      "text/plain": [
       "[5, 6, 5, 7, 5, 8, 5, 999]"
      ]
     },
     "execution_count": 52,
     "metadata": {},
     "output_type": "execute_result"
    }
   ],
   "source": [
    "c"
   ]
  },
  {
   "cell_type": "code",
   "execution_count": 54,
   "id": "4acd8e1f-0ec0-4dad-a73d-10363df3ba4d",
   "metadata": {},
   "outputs": [],
   "source": [
    "c.append(0)"
   ]
  },
  {
   "cell_type": "code",
   "execution_count": 56,
   "id": "b11e7edd-0f19-4fa4-97ac-81fc10e7cdcf",
   "metadata": {},
   "outputs": [
    {
     "data": {
      "text/plain": [
       "[5, 6, 5, 7, 5, 8, 5, 999, 0]"
      ]
     },
     "execution_count": 56,
     "metadata": {},
     "output_type": "execute_result"
    }
   ],
   "source": [
    "c"
   ]
  },
  {
   "cell_type": "code",
   "execution_count": 58,
   "id": "ac39ed36-30de-4c35-a811-6efe770c06b1",
   "metadata": {},
   "outputs": [],
   "source": [
    "b=tuple(c)"
   ]
  },
  {
   "cell_type": "code",
   "execution_count": 60,
   "id": "2445e432-ceb0-4075-b4a8-10d6072e4abd",
   "metadata": {},
   "outputs": [
    {
     "data": {
      "text/plain": [
       "(5, 6, 5, 7, 5, 8, 5, 999, 0)"
      ]
     },
     "execution_count": 60,
     "metadata": {},
     "output_type": "execute_result"
    }
   ],
   "source": [
    "b"
   ]
  },
  {
   "cell_type": "markdown",
   "id": "c39bfe89-6a22-474b-8899-dfd9647f2966",
   "metadata": {},
   "source": [
    "# ikta tupleni bir biriga qushish"
   ]
  },
  {
   "cell_type": "code",
   "execution_count": 63,
   "id": "0eb2895a-7059-419a-b464-910ca4724935",
   "metadata": {},
   "outputs": [
    {
     "data": {
      "text/plain": [
       "(5, 6, 5, 7, 5, 8, 5, 999, 0, 'Fitrat', 5, 6, 7, True)"
      ]
     },
     "execution_count": 63,
     "metadata": {},
     "output_type": "execute_result"
    }
   ],
   "source": [
    "b+mix_tuple"
   ]
  },
  {
   "cell_type": "code",
   "execution_count": 65,
   "id": "27512eb3-b1eb-4f12-9636-c4393e3fbacd",
   "metadata": {},
   "outputs": [
    {
     "data": {
      "text/plain": [
       "(5,\n",
       " 6,\n",
       " 5,\n",
       " 7,\n",
       " 5,\n",
       " 8,\n",
       " 5,\n",
       " 999,\n",
       " 0,\n",
       " 5,\n",
       " 6,\n",
       " 5,\n",
       " 7,\n",
       " 5,\n",
       " 8,\n",
       " 5,\n",
       " 999,\n",
       " 0,\n",
       " 5,\n",
       " 6,\n",
       " 5,\n",
       " 7,\n",
       " 5,\n",
       " 8,\n",
       " 5,\n",
       " 999,\n",
       " 0)"
      ]
     },
     "execution_count": 65,
     "metadata": {},
     "output_type": "execute_result"
    }
   ],
   "source": [
    "b*3"
   ]
  },
  {
   "cell_type": "markdown",
   "id": "8f7eac19-b8e9-48b3-9df4-bb416e024cba",
   "metadata": {},
   "source": [
    "# appendni tupleda ishlatib kurish"
   ]
  },
  {
   "cell_type": "code",
   "execution_count": 68,
   "id": "a1c810c2-d026-4d5b-87b4-212531201802",
   "metadata": {},
   "outputs": [],
   "source": [
    "a1=(1,2,3,4,5,6)"
   ]
  },
  {
   "cell_type": "code",
   "execution_count": 70,
   "id": "98dadf89-861e-4d14-9366-80bfa0496693",
   "metadata": {},
   "outputs": [
    {
     "data": {
      "text/plain": [
       "(1, 2, 3, 4, 5, 6)"
      ]
     },
     "execution_count": 70,
     "metadata": {},
     "output_type": "execute_result"
    }
   ],
   "source": [
    "a1"
   ]
  },
  {
   "cell_type": "code",
   "execution_count": 72,
   "id": "31ff0da9-c8ae-402c-ad40-eeeca3325a08",
   "metadata": {},
   "outputs": [
    {
     "ename": "AttributeError",
     "evalue": "'tuple' object has no attribute 'append'",
     "output_type": "error",
     "traceback": [
      "\u001b[1;31m---------------------------------------------------------------------------\u001b[0m",
      "\u001b[1;31mAttributeError\u001b[0m                            Traceback (most recent call last)",
      "Cell \u001b[1;32mIn[72], line 1\u001b[0m\n\u001b[1;32m----> 1\u001b[0m a1\u001b[38;5;241m.\u001b[39mappend(\u001b[38;5;241m0\u001b[39m)\n",
      "\u001b[1;31mAttributeError\u001b[0m: 'tuple' object has no attribute 'append'"
     ]
    }
   ],
   "source": [
    "a1.append(0)"
   ]
  },
  {
   "cell_type": "markdown",
   "id": "aaf340c0-6632-45d8-a430-70ce67b8f980",
   "metadata": {},
   "source": [
    "# tupleni uzunligini topish "
   ]
  },
  {
   "cell_type": "code",
   "execution_count": 75,
   "id": "79957a10-2f3b-449b-8ca1-ea5f05d982a7",
   "metadata": {},
   "outputs": [
    {
     "data": {
      "text/plain": [
       "6"
      ]
     },
     "execution_count": 75,
     "metadata": {},
     "output_type": "execute_result"
    }
   ],
   "source": [
    "len(a1)"
   ]
  },
  {
   "cell_type": "markdown",
   "id": "31c5634e-ba78-4660-8e85-a368ae5b9a23",
   "metadata": {},
   "source": [
    "# tuplening eng katta va eng kichik elementlarini toping"
   ]
  },
  {
   "cell_type": "code",
   "execution_count": 80,
   "id": "888380e4-6485-4ae9-9745-1fef500a1990",
   "metadata": {},
   "outputs": [
    {
     "data": {
      "text/plain": [
       "6"
      ]
     },
     "execution_count": 80,
     "metadata": {},
     "output_type": "execute_result"
    }
   ],
   "source": [
    "max(a1)"
   ]
  },
  {
   "cell_type": "code",
   "execution_count": 82,
   "id": "446a9e97-e34e-44d0-8c83-089ee31fafc1",
   "metadata": {},
   "outputs": [
    {
     "data": {
      "text/plain": [
       "1"
      ]
     },
     "execution_count": 82,
     "metadata": {},
     "output_type": "execute_result"
    }
   ],
   "source": [
    "min(a1)"
   ]
  },
  {
   "cell_type": "markdown",
   "id": "3c624ddc-a592-4dd2-af0f-46dd31bc4a17",
   "metadata": {},
   "source": [
    "# tupleni teskari tartibda chiqaring"
   ]
  },
  {
   "cell_type": "code",
   "execution_count": 87,
   "id": "ffbba2fb-8a46-456c-acf4-e7715885f313",
   "metadata": {},
   "outputs": [
    {
     "ename": "AttributeError",
     "evalue": "'tuple' object has no attribute 'reverse'",
     "output_type": "error",
     "traceback": [
      "\u001b[1;31m---------------------------------------------------------------------------\u001b[0m",
      "\u001b[1;31mAttributeError\u001b[0m                            Traceback (most recent call last)",
      "Cell \u001b[1;32mIn[87], line 1\u001b[0m\n\u001b[1;32m----> 1\u001b[0m a1\u001b[38;5;241m.\u001b[39mreverse()\n",
      "\u001b[1;31mAttributeError\u001b[0m: 'tuple' object has no attribute 'reverse'"
     ]
    }
   ],
   "source": [
    "a1.reverse()"
   ]
  },
  {
   "cell_type": "markdown",
   "id": "7f2b2a0b-6b89-48da-92e5-e3853e1b6e3b",
   "metadata": {},
   "source": [
    "# tupleni tozalash"
   ]
  },
  {
   "cell_type": "code",
   "execution_count": 90,
   "id": "9e52b2a9-6793-4497-b55f-ad1287c80661",
   "metadata": {},
   "outputs": [
    {
     "ename": "AttributeError",
     "evalue": "'tuple' object has no attribute 'clear'",
     "output_type": "error",
     "traceback": [
      "\u001b[1;31m---------------------------------------------------------------------------\u001b[0m",
      "\u001b[1;31mAttributeError\u001b[0m                            Traceback (most recent call last)",
      "Cell \u001b[1;32mIn[90], line 1\u001b[0m\n\u001b[1;32m----> 1\u001b[0m a1\u001b[38;5;241m.\u001b[39mclear()\n",
      "\u001b[1;31mAttributeError\u001b[0m: 'tuple' object has no attribute 'clear'"
     ]
    }
   ],
   "source": [
    "a1.clear()"
   ]
  },
  {
   "cell_type": "code",
   "execution_count": 92,
   "id": "7daed7f3-75f9-4578-8031-4b0ec9c58684",
   "metadata": {},
   "outputs": [
    {
     "data": {
      "text/plain": [
       "(1, 2, 3, 4, 5, 6)"
      ]
     },
     "execution_count": 92,
     "metadata": {},
     "output_type": "execute_result"
    }
   ],
   "source": [
    "a1"
   ]
  },
  {
   "cell_type": "markdown",
   "id": "b12ebeb2-f966-4b03-821d-edf170d0ed9f",
   "metadata": {},
   "source": [
    "# tuplega son qushish >> setni formulasi orqali"
   ]
  },
  {
   "cell_type": "code",
   "execution_count": 97,
   "id": "74fe095e-e942-43a0-8472-380869c7740b",
   "metadata": {},
   "outputs": [
    {
     "ename": "AttributeError",
     "evalue": "'tuple' object has no attribute 'add'",
     "output_type": "error",
     "traceback": [
      "\u001b[1;31m---------------------------------------------------------------------------\u001b[0m",
      "\u001b[1;31mAttributeError\u001b[0m                            Traceback (most recent call last)",
      "Cell \u001b[1;32mIn[97], line 1\u001b[0m\n\u001b[1;32m----> 1\u001b[0m a1\u001b[38;5;241m.\u001b[39madd(\u001b[38;5;241m2\u001b[39m)\n",
      "\u001b[1;31mAttributeError\u001b[0m: 'tuple' object has no attribute 'add'"
     ]
    }
   ],
   "source": [
    "a1.add(2)"
   ]
  },
  {
   "cell_type": "markdown",
   "id": "a2c749fa-8671-4f65-be43-15e35c7ca561",
   "metadata": {},
   "source": [
    "# tupledan olib tashlash set formulasi orqali"
   ]
  },
  {
   "cell_type": "code",
   "execution_count": 102,
   "id": "1ed96c5f-a333-4140-ac98-773702e429e0",
   "metadata": {},
   "outputs": [
    {
     "ename": "AttributeError",
     "evalue": "'tuple' object has no attribute 'remove'",
     "output_type": "error",
     "traceback": [
      "\u001b[1;31m---------------------------------------------------------------------------\u001b[0m",
      "\u001b[1;31mAttributeError\u001b[0m                            Traceback (most recent call last)",
      "Cell \u001b[1;32mIn[102], line 1\u001b[0m\n\u001b[1;32m----> 1\u001b[0m a1\u001b[38;5;241m.\u001b[39mremove()\n",
      "\u001b[1;31mAttributeError\u001b[0m: 'tuple' object has no attribute 'remove'"
     ]
    }
   ],
   "source": [
    "a1.remove()"
   ]
  },
  {
   "cell_type": "code",
   "execution_count": 104,
   "id": "2899b9d3-70b9-4e70-9c7f-ea9f1d69b29a",
   "metadata": {},
   "outputs": [
    {
     "ename": "AttributeError",
     "evalue": "'tuple' object has no attribute 'discard'",
     "output_type": "error",
     "traceback": [
      "\u001b[1;31m---------------------------------------------------------------------------\u001b[0m",
      "\u001b[1;31mAttributeError\u001b[0m                            Traceback (most recent call last)",
      "Cell \u001b[1;32mIn[104], line 1\u001b[0m\n\u001b[1;32m----> 1\u001b[0m a1\u001b[38;5;241m.\u001b[39mdiscard(\u001b[38;5;241m2\u001b[39m)\n",
      "\u001b[1;31mAttributeError\u001b[0m: 'tuple' object has no attribute 'discard'"
     ]
    }
   ],
   "source": [
    "a1.discard(2)"
   ]
  },
  {
   "cell_type": "code",
   "execution_count": 106,
   "id": "7b22b861-d1e6-4603-8c78-cdbb7a339972",
   "metadata": {},
   "outputs": [
    {
     "ename": "AttributeError",
     "evalue": "'tuple' object has no attribute 'pop'",
     "output_type": "error",
     "traceback": [
      "\u001b[1;31m---------------------------------------------------------------------------\u001b[0m",
      "\u001b[1;31mAttributeError\u001b[0m                            Traceback (most recent call last)",
      "Cell \u001b[1;32mIn[106], line 1\u001b[0m\n\u001b[1;32m----> 1\u001b[0m a1\u001b[38;5;241m.\u001b[39mpop()\n",
      "\u001b[1;31mAttributeError\u001b[0m: 'tuple' object has no attribute 'pop'"
     ]
    }
   ],
   "source": [
    "a1.pop()"
   ]
  },
  {
   "cell_type": "markdown",
   "id": "4f090662-d9c7-45ab-b319-23ed772d82ef",
   "metadata": {},
   "source": [
    "# ikki tupledagi bir xil sonlarni topish"
   ]
  },
  {
   "cell_type": "code",
   "execution_count": 111,
   "id": "c6a5c6ab-3038-4752-b637-47aa9451ce75",
   "metadata": {},
   "outputs": [],
   "source": [
    "a=(1,2,3,4,5,6)\n",
    "b=(5,6,7,8,9)"
   ]
  },
  {
   "cell_type": "code",
   "execution_count": 115,
   "id": "dbcf2ca7-2dab-4627-a647-76a0be961aac",
   "metadata": {},
   "outputs": [
    {
     "ename": "AttributeError",
     "evalue": "'tuple' object has no attribute 'intersection'",
     "output_type": "error",
     "traceback": [
      "\u001b[1;31m---------------------------------------------------------------------------\u001b[0m",
      "\u001b[1;31mAttributeError\u001b[0m                            Traceback (most recent call last)",
      "Cell \u001b[1;32mIn[115], line 1\u001b[0m\n\u001b[1;32m----> 1\u001b[0m a\u001b[38;5;241m.\u001b[39mintersection(b)\n",
      "\u001b[1;31mAttributeError\u001b[0m: 'tuple' object has no attribute 'intersection'"
     ]
    }
   ],
   "source": [
    "a.intersection(b)"
   ]
  },
  {
   "cell_type": "markdown",
   "id": "a51038f6-afb2-43cc-86d3-63af03c33dda",
   "metadata": {},
   "source": [
    "# ikki tupledagi farqli sonlarni topish"
   ]
  },
  {
   "cell_type": "code",
   "execution_count": 120,
   "id": "b79f3cb3-7378-409d-a342-05f9e5406dd8",
   "metadata": {},
   "outputs": [
    {
     "ename": "AttributeError",
     "evalue": "'tuple' object has no attribute 'difference'",
     "output_type": "error",
     "traceback": [
      "\u001b[1;31m---------------------------------------------------------------------------\u001b[0m",
      "\u001b[1;31mAttributeError\u001b[0m                            Traceback (most recent call last)",
      "Cell \u001b[1;32mIn[120], line 1\u001b[0m\n\u001b[1;32m----> 1\u001b[0m a\u001b[38;5;241m.\u001b[39mdifference(b)\n",
      "\u001b[1;31mAttributeError\u001b[0m: 'tuple' object has no attribute 'difference'"
     ]
    }
   ],
   "source": [
    "a.difference(b)"
   ]
  },
  {
   "cell_type": "markdown",
   "id": "ecfb2d39-a2b7-40b4-91ba-8ed3d2db2a77",
   "metadata": {},
   "source": [
    "# issubset \n"
   ]
  },
  {
   "cell_type": "code",
   "execution_count": 123,
   "id": "51c0f387-0840-4941-98b7-7cc382b23ff3",
   "metadata": {},
   "outputs": [],
   "source": [
    "a=(1,2,3)"
   ]
  },
  {
   "cell_type": "code",
   "execution_count": 125,
   "id": "dfca38e2-5a97-432f-bbdf-62dc43ae3237",
   "metadata": {},
   "outputs": [
    {
     "data": {
      "text/plain": [
       "(1, 2, 3)"
      ]
     },
     "execution_count": 125,
     "metadata": {},
     "output_type": "execute_result"
    }
   ],
   "source": [
    "a"
   ]
  },
  {
   "cell_type": "code",
   "execution_count": 127,
   "id": "cd9deb82-c2f4-42e1-b071-ea4c107c9233",
   "metadata": {},
   "outputs": [],
   "source": [
    "b=(2,3)"
   ]
  },
  {
   "cell_type": "code",
   "execution_count": 129,
   "id": "8a715720-d239-4cef-adf5-bbcf92d966de",
   "metadata": {},
   "outputs": [
    {
     "ename": "AttributeError",
     "evalue": "'tuple' object has no attribute 'issubset'",
     "output_type": "error",
     "traceback": [
      "\u001b[1;31m---------------------------------------------------------------------------\u001b[0m",
      "\u001b[1;31mAttributeError\u001b[0m                            Traceback (most recent call last)",
      "Cell \u001b[1;32mIn[129], line 1\u001b[0m\n\u001b[1;32m----> 1\u001b[0m a\u001b[38;5;241m.\u001b[39missubset(b)\n",
      "\u001b[1;31mAttributeError\u001b[0m: 'tuple' object has no attribute 'issubset'"
     ]
    }
   ],
   "source": [
    "a.issubset(b)"
   ]
  },
  {
   "cell_type": "code",
   "execution_count": 131,
   "id": "f5b3903e-e0e2-4df6-a529-8bcb8b2dcd60",
   "metadata": {},
   "outputs": [
    {
     "ename": "AttributeError",
     "evalue": "'tuple' object has no attribute 'issubset'",
     "output_type": "error",
     "traceback": [
      "\u001b[1;31m---------------------------------------------------------------------------\u001b[0m",
      "\u001b[1;31mAttributeError\u001b[0m                            Traceback (most recent call last)",
      "Cell \u001b[1;32mIn[131], line 1\u001b[0m\n\u001b[1;32m----> 1\u001b[0m b\u001b[38;5;241m.\u001b[39missubset(a)\n",
      "\u001b[1;31mAttributeError\u001b[0m: 'tuple' object has no attribute 'issubset'"
     ]
    }
   ],
   "source": [
    "b.issubset(a)"
   ]
  },
  {
   "cell_type": "code",
   "execution_count": 143,
   "id": "aaec034e-8400-491e-a572-04f7656c7969",
   "metadata": {},
   "outputs": [],
   "source": [
    "jadval_tuple=((\"anor\", 5500), (\"olma\", 4500), (\"nok\",3400))"
   ]
  },
  {
   "cell_type": "code",
   "execution_count": 145,
   "id": "184b2144-0965-4a98-9614-d504ce161c3b",
   "metadata": {},
   "outputs": [
    {
     "name": "stdout",
     "output_type": "stream",
     "text": [
      "(('anor', 5500), ('olma', 4500), ('nok', 3400))\n"
     ]
    }
   ],
   "source": [
    "print(jadval_tuple)"
   ]
  },
  {
   "cell_type": "code",
   "execution_count": 147,
   "id": "223db464-1cea-4a25-ac4e-ba3209647c35",
   "metadata": {},
   "outputs": [
    {
     "data": {
      "text/plain": [
       "(('anor', 5500), ('olma', 4500), ('nok', 3400))"
      ]
     },
     "execution_count": 147,
     "metadata": {},
     "output_type": "execute_result"
    }
   ],
   "source": [
    "jadval_tuple"
   ]
  },
  {
   "cell_type": "code",
   "execution_count": 149,
   "id": "0e8a569e-13ef-4eff-ba3f-b40d1bfbb743",
   "metadata": {},
   "outputs": [],
   "source": [
    "jadval_list=[(\"anor\", 5500), (\"olma\", 4500), (\"nok\",3400)]"
   ]
  },
  {
   "cell_type": "code",
   "execution_count": 151,
   "id": "e30d9620-8b85-44ed-bc67-a73569b0932a",
   "metadata": {},
   "outputs": [
    {
     "data": {
      "text/plain": [
       "[('anor', 5500), ('olma', 4500), ('nok', 3400)]"
      ]
     },
     "execution_count": 151,
     "metadata": {},
     "output_type": "execute_result"
    }
   ],
   "source": [
    "jadval_list"
   ]
  },
  {
   "cell_type": "code",
   "execution_count": 155,
   "id": "45bf947c-6ac6-4994-ada2-cbf17adf14d0",
   "metadata": {},
   "outputs": [],
   "source": [
    "jadval_set={(\"anor\",5500), (\"olma\",4500), (\"nok\", 3400)}"
   ]
  },
  {
   "cell_type": "code",
   "execution_count": 157,
   "id": "099b5a37-947b-4691-9658-8f6a4460548e",
   "metadata": {},
   "outputs": [
    {
     "data": {
      "text/plain": [
       "{('anor', 5500), ('nok', 3400), ('olma', 4500)}"
      ]
     },
     "execution_count": 157,
     "metadata": {},
     "output_type": "execute_result"
    }
   ],
   "source": [
    "jadval_set"
   ]
  },
  {
   "cell_type": "code",
   "execution_count": null,
   "id": "850db45a-841a-42b3-8054-816a4472c4ca",
   "metadata": {},
   "outputs": [],
   "source": []
  }
 ],
 "metadata": {
  "kernelspec": {
   "display_name": "Python [conda env:base] *",
   "language": "python",
   "name": "conda-base-py"
  },
  "language_info": {
   "codemirror_mode": {
    "name": "ipython",
    "version": 3
   },
   "file_extension": ".py",
   "mimetype": "text/x-python",
   "name": "python",
   "nbconvert_exporter": "python",
   "pygments_lexer": "ipython3",
   "version": "3.12.7"
  }
 },
 "nbformat": 4,
 "nbformat_minor": 5
}
