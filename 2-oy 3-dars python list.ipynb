{
 "cells": [
  {
   "cell_type": "markdown",
   "id": "87b57bf2-5344-46c7-a98d-dc606aa77590",
   "metadata": {},
   "source": [
    "# List yarating va unga elementlarni qo'shing\n",
    "# Listning uzunligini toping\n",
    "# Listning eng katta va eng kichik elementlarini toping\n",
    "# Listni teskari tartibda chiqaring\n",
    "# Listni tozalang\n"
   ]
  },
  {
   "cell_type": "markdown",
   "id": "85f30b06-94f2-4540-9e61-c9d4a766ecb0",
   "metadata": {},
   "source": [
    "# List yarating va unga elementlarni qo'shing"
   ]
  },
  {
   "cell_type": "code",
   "execution_count": 2,
   "id": "73c53293-40b3-495b-9c79-9057a5110ac3",
   "metadata": {},
   "outputs": [],
   "source": [
    "list=[2,3,4,5,6,7,8]"
   ]
  },
  {
   "cell_type": "code",
   "execution_count": 4,
   "id": "cad19163-d371-4026-8449-45a14a22d296",
   "metadata": {},
   "outputs": [
    {
     "data": {
      "text/plain": [
       "[2, 3, 4, 5, 6, 7, 8]"
      ]
     },
     "execution_count": 4,
     "metadata": {},
     "output_type": "execute_result"
    }
   ],
   "source": [
    "list"
   ]
  },
  {
   "cell_type": "code",
   "execution_count": 6,
   "id": "7f312bce-2922-448a-a19f-95d25a16f411",
   "metadata": {},
   "outputs": [],
   "source": [
    "list.append(9)"
   ]
  },
  {
   "cell_type": "code",
   "execution_count": 8,
   "id": "7872aaf4-2112-4023-8474-d058e4888b33",
   "metadata": {},
   "outputs": [
    {
     "data": {
      "text/plain": [
       "[2, 3, 4, 5, 6, 7, 8, 9]"
      ]
     },
     "execution_count": 8,
     "metadata": {},
     "output_type": "execute_result"
    }
   ],
   "source": [
    "list"
   ]
  },
  {
   "cell_type": "markdown",
   "id": "6cd6ed54-2c66-4f9a-82a9-50f38171305e",
   "metadata": {},
   "source": [
    "# Listning uzunligini toping"
   ]
  },
  {
   "cell_type": "code",
   "execution_count": 21,
   "id": "35898ff2-450c-48e7-86a4-393f882b0b31",
   "metadata": {},
   "outputs": [
    {
     "data": {
      "text/plain": [
       "8"
      ]
     },
     "execution_count": 21,
     "metadata": {},
     "output_type": "execute_result"
    }
   ],
   "source": [
    "len(list)"
   ]
  },
  {
   "cell_type": "markdown",
   "id": "f8653964-e527-4d56-b75d-7bff18d9c03f",
   "metadata": {},
   "source": [
    "# Listning eng katta va eng kichik elementlarini toping"
   ]
  },
  {
   "cell_type": "code",
   "execution_count": 24,
   "id": "5c8237eb-56ab-4b78-9422-8e4460da87e8",
   "metadata": {},
   "outputs": [
    {
     "data": {
      "text/plain": [
       "9"
      ]
     },
     "execution_count": 24,
     "metadata": {},
     "output_type": "execute_result"
    }
   ],
   "source": [
    "max(list)"
   ]
  },
  {
   "cell_type": "code",
   "execution_count": 26,
   "id": "da6121e6-dc62-4f72-b6b8-c597d0136002",
   "metadata": {},
   "outputs": [
    {
     "data": {
      "text/plain": [
       "2"
      ]
     },
     "execution_count": 26,
     "metadata": {},
     "output_type": "execute_result"
    }
   ],
   "source": [
    "min(list)"
   ]
  },
  {
   "cell_type": "code",
   "execution_count": 32,
   "id": "2ea5cb50-b899-40fd-90fc-e1726580e4ec",
   "metadata": {},
   "outputs": [
    {
     "name": "stdout",
     "output_type": "stream",
     "text": [
      "listning eng katta elementi: 9\n",
      "listning eng kichik elementi: 2\n"
     ]
    }
   ],
   "source": [
    "print(f\"listning eng katta elementi: {max(list)}\")\n",
    "print(f\"listning eng kichik elementi: {min(list)}\")"
   ]
  },
  {
   "cell_type": "markdown",
   "id": "72fa5bb3-0b07-46bf-a596-83cedb20e20d",
   "metadata": {},
   "source": [
    "# Listni teskari tartibda chiqaring"
   ]
  },
  {
   "cell_type": "code",
   "execution_count": 39,
   "id": "b660d358-739e-41e0-b3ee-5f393e814048",
   "metadata": {},
   "outputs": [],
   "source": [
    "list.reverse()"
   ]
  },
  {
   "cell_type": "code",
   "execution_count": 41,
   "id": "bd369211-ebed-487b-88c1-1b8e803fa271",
   "metadata": {},
   "outputs": [
    {
     "data": {
      "text/plain": [
       "[9, 8, 7, 6, 5, 4, 3, 2]"
      ]
     },
     "execution_count": 41,
     "metadata": {},
     "output_type": "execute_result"
    }
   ],
   "source": [
    "list"
   ]
  },
  {
   "cell_type": "markdown",
   "id": "9944e4f1-c18e-4032-975f-01d1456d8a53",
   "metadata": {},
   "source": [
    "# Listni tozalang"
   ]
  },
  {
   "cell_type": "code",
   "execution_count": 48,
   "id": "9da3ab5f-d3ed-44c7-a214-4a762fd3cd35",
   "metadata": {},
   "outputs": [],
   "source": [
    "list.clear()"
   ]
  },
  {
   "cell_type": "code",
   "execution_count": 50,
   "id": "f2ff891a-4d5a-4116-98d2-d5c7c0268c10",
   "metadata": {},
   "outputs": [
    {
     "data": {
      "text/plain": [
       "[]"
      ]
     },
     "execution_count": 50,
     "metadata": {},
     "output_type": "execute_result"
    }
   ],
   "source": [
    "list"
   ]
  },
  {
   "cell_type": "code",
   "execution_count": null,
   "id": "304a2b99-afd1-42c7-b31f-46079dc0dbd9",
   "metadata": {},
   "outputs": [],
   "source": []
  }
 ],
 "metadata": {
  "kernelspec": {
   "display_name": "Python [conda env:base] *",
   "language": "python",
   "name": "conda-base-py"
  },
  "language_info": {
   "codemirror_mode": {
    "name": "ipython",
    "version": 3
   },
   "file_extension": ".py",
   "mimetype": "text/x-python",
   "name": "python",
   "nbconvert_exporter": "python",
   "pygments_lexer": "ipython3",
   "version": "3.12.7"
  }
 },
 "nbformat": 4,
 "nbformat_minor": 5
}
