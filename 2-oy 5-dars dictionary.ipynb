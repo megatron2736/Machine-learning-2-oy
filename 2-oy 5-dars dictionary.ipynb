{
 "cells": [
  {
   "cell_type": "markdown",
   "id": "9b6edddb-74ba-4faf-a77d-cf3b60d81987",
   "metadata": {},
   "source": [
    "# Dictionary"
   ]
  },
  {
   "cell_type": "markdown",
   "id": "1b99118a-d1f3-46dc-8d14-5ec166da0bf7",
   "metadata": {},
   "source": [
    "# dict yaratish va darsimzida ishlatilingan codlarni ishlatish"
   ]
  },
  {
   "cell_type": "code",
   "execution_count": 5,
   "id": "24d4dd16-776e-40c3-8105-ebc5a4b24432",
   "metadata": {},
   "outputs": [],
   "source": [
    "Fitrat= {\n",
    "    'tugilgan yil': 1886,\n",
    "    'tugilgan joy': 'Buxoro',\n",
    "    'gazetasi': 'Hurriyat',\n",
    "    'vafot etgan yili': 1934,\n",
    "    'tegishli': 'jadidchilik'\n",
    "}\n"
   ]
  },
  {
   "cell_type": "code",
   "execution_count": 7,
   "id": "61d78d38-3d07-4b96-964a-243f578ccc23",
   "metadata": {},
   "outputs": [
    {
     "data": {
      "text/plain": [
       "1886"
      ]
     },
     "execution_count": 7,
     "metadata": {},
     "output_type": "execute_result"
    }
   ],
   "source": [
    "Fitrat['tugilgan yil']"
   ]
  },
  {
   "cell_type": "markdown",
   "id": "9e3e3e75-2ae5-41ea-bbd0-c19546c38133",
   "metadata": {},
   "source": [
    "# yangi element qushish"
   ]
  },
  {
   "cell_type": "code",
   "execution_count": 10,
   "id": "1cca50a3-c4ee-4d76-925c-e989c6fbe00c",
   "metadata": {},
   "outputs": [],
   "source": [
    "Fitrat['kimga qarshi']= 'soviet ittifoqi'"
   ]
  },
  {
   "cell_type": "code",
   "execution_count": 12,
   "id": "0d060b14-67f2-45ba-9a51-74e0dd3f9c4e",
   "metadata": {},
   "outputs": [
    {
     "data": {
      "text/plain": [
       "{'tugilgan yil': 1886,\n",
       " 'tugilgan joy': 'Buxoro',\n",
       " 'gazetasi': 'Hurriyat',\n",
       " 'vafot etgan yili': 1934,\n",
       " 'tegishli': 'jadidchilik',\n",
       " 'kimga qarshi': 'soviet ittifoqi'}"
      ]
     },
     "execution_count": 12,
     "metadata": {},
     "output_type": "execute_result"
    }
   ],
   "source": [
    "Fitrat"
   ]
  },
  {
   "cell_type": "markdown",
   "id": "fc40b62a-b016-47e6-a1db-dee9d15bc268",
   "metadata": {},
   "source": [
    "# elementni uzgartirish"
   ]
  },
  {
   "cell_type": "code",
   "execution_count": 15,
   "id": "4058b3ee-5e61-468a-9389-205d766abd4e",
   "metadata": {},
   "outputs": [],
   "source": [
    "Fitrat['tugilgan joy']='Buxoro amirligi'"
   ]
  },
  {
   "cell_type": "code",
   "execution_count": 17,
   "id": "9445f145-948f-4049-9c32-0dac812531e0",
   "metadata": {},
   "outputs": [
    {
     "data": {
      "text/plain": [
       "{'tugilgan yil': 1886,\n",
       " 'tugilgan joy': 'Buxoro amirligi',\n",
       " 'gazetasi': 'Hurriyat',\n",
       " 'vafot etgan yili': 1934,\n",
       " 'tegishli': 'jadidchilik',\n",
       " 'kimga qarshi': 'soviet ittifoqi'}"
      ]
     },
     "execution_count": 17,
     "metadata": {},
     "output_type": "execute_result"
    }
   ],
   "source": [
    "Fitrat"
   ]
  },
  {
   "cell_type": "markdown",
   "id": "c449c5f0-4e91-4586-b878-bce75bdd3f7a",
   "metadata": {},
   "source": [
    "# elementni bor yuqligini tekshirish"
   ]
  },
  {
   "cell_type": "code",
   "execution_count": 20,
   "id": "fb082c27-d2ce-429c-bd29-414b5745f7ac",
   "metadata": {},
   "outputs": [
    {
     "name": "stdout",
     "output_type": "stream",
     "text": [
      "gazeta chiqargan\n"
     ]
    }
   ],
   "source": [
    "if 'gazetasi' in Fitrat:\n",
    "    print('gazeta chiqargan')\n",
    "else: \n",
    "    print('gazeta chiqarmagan')"
   ]
  },
  {
   "cell_type": "markdown",
   "id": "a50d01f8-13bc-4938-b97d-4c227c7f9a6b",
   "metadata": {},
   "source": [
    "# for bilan tekshirish"
   ]
  },
  {
   "cell_type": "code",
   "execution_count": 37,
   "id": "1be35ce7-6710-4dbc-baac-99a2e355c61d",
   "metadata": {},
   "outputs": [
    {
     "name": "stdout",
     "output_type": "stream",
     "text": [
      "tugilgan yil 1886\n",
      "tugilgan joy Buxoro amirligi\n",
      "gazetasi Hurriyat\n",
      "vafot etgan yili 1934\n",
      "tegishli jadidchilik\n",
      "kimga qarshi soviet ittifoqi\n"
     ]
    }
   ],
   "source": [
    "for tegishli, gazetasi in Fitrat.items():\n",
    "    print(tegishli, gazetasi)"
   ]
  },
  {
   "cell_type": "markdown",
   "id": "9a135b06-c21c-4485-b4bb-b58a4d1aab5a",
   "metadata": {},
   "source": [
    "# yangi dictionary tuzamiz"
   ]
  },
  {
   "cell_type": "code",
   "execution_count": 44,
   "id": "669cdd7a-79e4-4e67-864b-eac230f92860",
   "metadata": {},
   "outputs": [],
   "source": [
    "maktab_info = {\n",
    "    'number 29': {'uquvchi': 500, 'uqituvchi': 25},\n",
    "    'number 1': {'uquvchi': 585, 'uqituvchi': 45},\n",
    "    'number 34': {'uquvchi': 800, 'uqituvchi': 55}\n",
    "}"
   ]
  },
  {
   "cell_type": "code",
   "execution_count": 46,
   "id": "4175cf45-ca73-4214-8ec5-87e74fc6828a",
   "metadata": {},
   "outputs": [
    {
     "data": {
      "text/plain": [
       "25"
      ]
     },
     "execution_count": 46,
     "metadata": {},
     "output_type": "execute_result"
    }
   ],
   "source": [
    "maktab_info['number 29']['uqituvchi']"
   ]
  },
  {
   "cell_type": "code",
   "execution_count": 48,
   "id": "e5de8db8-c685-4ec0-8eda-c9756de4f0a8",
   "metadata": {},
   "outputs": [
    {
     "data": {
      "text/plain": [
       "{'uquvchi': 585, 'uqituvchi': 45}"
      ]
     },
     "execution_count": 48,
     "metadata": {},
     "output_type": "execute_result"
    }
   ],
   "source": [
    "maktab_info['number 1']"
   ]
  },
  {
   "cell_type": "code",
   "execution_count": null,
   "id": "e5b58719-52e8-4002-a37b-3b986543817f",
   "metadata": {},
   "outputs": [],
   "source": []
  }
 ],
 "metadata": {
  "kernelspec": {
   "display_name": "Python [conda env:base] *",
   "language": "python",
   "name": "conda-base-py"
  },
  "language_info": {
   "codemirror_mode": {
    "name": "ipython",
    "version": 3
   },
   "file_extension": ".py",
   "mimetype": "text/x-python",
   "name": "python",
   "nbconvert_exporter": "python",
   "pygments_lexer": "ipython3",
   "version": "3.12.7"
  }
 },
 "nbformat": 4,
 "nbformat_minor": 5
}
