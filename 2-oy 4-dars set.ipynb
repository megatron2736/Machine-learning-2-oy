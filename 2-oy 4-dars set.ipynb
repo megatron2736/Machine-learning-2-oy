{
 "cells": [
  {
   "cell_type": "markdown",
   "id": "519c0db1-ab71-4d56-bc2a-c8fe2f21bdac",
   "metadata": {},
   "source": [
    "# setda True va 1; False va 0 teng"
   ]
  },
  {
   "cell_type": "code",
   "execution_count": 50,
   "id": "af46ea72-fd53-4f6d-9152-28599e44de67",
   "metadata": {},
   "outputs": [],
   "source": [
    "a={10,8,6,'hh',1,41,3,True, False, 0}"
   ]
  },
  {
   "cell_type": "code",
   "execution_count": 52,
   "id": "c4365eab-0d5c-4664-b110-636c7a4a1a11",
   "metadata": {},
   "outputs": [
    {
     "data": {
      "text/plain": [
       "{1, 10, 3, 41, 6, 8, False, 'hh'}"
      ]
     },
     "execution_count": 52,
     "metadata": {},
     "output_type": "execute_result"
    }
   ],
   "source": [
    "a"
   ]
  },
  {
   "cell_type": "markdown",
   "id": "71ff37df-37c1-45b5-ade3-281cd4a04735",
   "metadata": {},
   "source": [
    "# Setda bir xil qiymatlarni tashlab yuboradi"
   ]
  },
  {
   "cell_type": "code",
   "execution_count": 55,
   "id": "e4dfb789-9f48-467c-a831-ebc5a863b232",
   "metadata": {},
   "outputs": [],
   "source": [
    "b={8,8,6,7,5,4,6,5}"
   ]
  },
  {
   "cell_type": "code",
   "execution_count": 57,
   "id": "13dbe686-2058-4f8c-933f-694d3aec05c0",
   "metadata": {},
   "outputs": [
    {
     "data": {
      "text/plain": [
       "{4, 5, 6, 7, 8}"
      ]
     },
     "execution_count": 57,
     "metadata": {},
     "output_type": "execute_result"
    }
   ],
   "source": [
    "b"
   ]
  },
  {
   "cell_type": "markdown",
   "id": "b16e3545-14a5-40aa-8939-1e6bff37ab01",
   "metadata": {},
   "source": [
    "# listni setga aylantirish"
   ]
  },
  {
   "cell_type": "code",
   "execution_count": 68,
   "id": "99b3003f-b03b-47c3-9bb4-de163fb20285",
   "metadata": {},
   "outputs": [],
   "source": [
    "c=[2,4,5,8,7,9]"
   ]
  },
  {
   "cell_type": "code",
   "execution_count": 70,
   "id": "1f00734b-1428-454a-90e8-b44c34979fb3",
   "metadata": {},
   "outputs": [
    {
     "data": {
      "text/plain": [
       "[2, 4, 5, 8, 7, 9]"
      ]
     },
     "execution_count": 70,
     "metadata": {},
     "output_type": "execute_result"
    }
   ],
   "source": [
    "c"
   ]
  },
  {
   "cell_type": "code",
   "execution_count": 72,
   "id": "ba0c5403-19cf-4612-8b3e-958df16d5e71",
   "metadata": {},
   "outputs": [],
   "source": [
    "d=set(c)"
   ]
  },
  {
   "cell_type": "code",
   "execution_count": 74,
   "id": "f014fcb8-ce47-4ef9-812a-87ce2bb3b545",
   "metadata": {},
   "outputs": [
    {
     "data": {
      "text/plain": [
       "{2, 4, 5, 7, 8, 9}"
      ]
     },
     "execution_count": 74,
     "metadata": {},
     "output_type": "execute_result"
    }
   ],
   "source": [
    "d"
   ]
  },
  {
   "cell_type": "markdown",
   "id": "beb8c10b-ad7e-4438-8878-9e6dd7690f2f",
   "metadata": {},
   "source": [
    "# setni listga aylantirish"
   ]
  },
  {
   "cell_type": "code",
   "execution_count": 77,
   "id": "5f0f93de-dee5-4329-95b2-2be864904090",
   "metadata": {},
   "outputs": [],
   "source": [
    "b={8,8,6,7,5,4,6,5}"
   ]
  },
  {
   "cell_type": "code",
   "execution_count": 79,
   "id": "442577b6-d4f8-4fd0-b62d-cc2d3ccdaeb1",
   "metadata": {},
   "outputs": [
    {
     "data": {
      "text/plain": [
       "{4, 5, 6, 7, 8}"
      ]
     },
     "execution_count": 79,
     "metadata": {},
     "output_type": "execute_result"
    }
   ],
   "source": [
    "b"
   ]
  },
  {
   "cell_type": "code",
   "execution_count": 81,
   "id": "6d08039d-4847-4b17-a390-5d1825a4ca41",
   "metadata": {},
   "outputs": [],
   "source": [
    "g=list(b)"
   ]
  },
  {
   "cell_type": "code",
   "execution_count": 83,
   "id": "35ef830e-3f65-44a9-a66c-e4bb9284d43b",
   "metadata": {},
   "outputs": [
    {
     "data": {
      "text/plain": [
       "[4, 5, 6, 7, 8]"
      ]
     },
     "execution_count": 83,
     "metadata": {},
     "output_type": "execute_result"
    }
   ],
   "source": [
    "g"
   ]
  },
  {
   "cell_type": "markdown",
   "id": "13c62c63-bb15-442c-b0b8-0f192ef787d5",
   "metadata": {},
   "source": [
    "# setga son qushish"
   ]
  },
  {
   "cell_type": "code",
   "execution_count": 86,
   "id": "67a3f87b-b901-45d4-acec-5fd86b74a364",
   "metadata": {},
   "outputs": [],
   "source": [
    "a={1,2,3,4,5}"
   ]
  },
  {
   "cell_type": "code",
   "execution_count": 88,
   "id": "ff7dee33-1255-4c64-a9f9-0812c9a2ccf6",
   "metadata": {},
   "outputs": [
    {
     "data": {
      "text/plain": [
       "{1, 2, 3, 4, 5}"
      ]
     },
     "execution_count": 88,
     "metadata": {},
     "output_type": "execute_result"
    }
   ],
   "source": [
    "a"
   ]
  },
  {
   "cell_type": "code",
   "execution_count": 90,
   "id": "a558af89-6b80-484e-8efd-b10fa2e305d5",
   "metadata": {},
   "outputs": [],
   "source": [
    "a.add(9)"
   ]
  },
  {
   "cell_type": "code",
   "execution_count": 92,
   "id": "9834414b-c550-4e20-a591-fbc0d443e335",
   "metadata": {},
   "outputs": [
    {
     "data": {
      "text/plain": [
       "{1, 2, 3, 4, 5, 9}"
      ]
     },
     "execution_count": 92,
     "metadata": {},
     "output_type": "execute_result"
    }
   ],
   "source": [
    "a"
   ]
  },
  {
   "cell_type": "markdown",
   "id": "ee4cd78d-02f0-47d7-aebe-32321002ecd5",
   "metadata": {},
   "source": [
    "# listga son qushish"
   ]
  },
  {
   "cell_type": "code",
   "execution_count": 95,
   "id": "5f03e333-8cf1-4658-9dff-545008daeca0",
   "metadata": {},
   "outputs": [],
   "source": [
    "c=[2,4,5,8,7,9]"
   ]
  },
  {
   "cell_type": "code",
   "execution_count": 97,
   "id": "d8be744c-b13b-4d24-8b7d-47522a3fb594",
   "metadata": {},
   "outputs": [
    {
     "data": {
      "text/plain": [
       "[2, 4, 5, 8, 7, 9]"
      ]
     },
     "execution_count": 97,
     "metadata": {},
     "output_type": "execute_result"
    }
   ],
   "source": [
    "c"
   ]
  },
  {
   "cell_type": "code",
   "execution_count": 99,
   "id": "85fc6c9e-3aa4-4996-b0b9-eab24b7bc776",
   "metadata": {},
   "outputs": [],
   "source": [
    "c.append(9)"
   ]
  },
  {
   "cell_type": "code",
   "execution_count": 101,
   "id": "8f8d53ae-d6b1-42e1-8bfd-f7a2c6bc7e09",
   "metadata": {},
   "outputs": [
    {
     "data": {
      "text/plain": [
       "[2, 4, 5, 8, 7, 9, 9]"
      ]
     },
     "execution_count": 101,
     "metadata": {},
     "output_type": "execute_result"
    }
   ],
   "source": [
    "c"
   ]
  },
  {
   "cell_type": "markdown",
   "id": "aedb396c-c5ac-42cf-a8cb-3f53639e5a35",
   "metadata": {},
   "source": [
    "# setdan olib tashlash"
   ]
  },
  {
   "cell_type": "code",
   "execution_count": 110,
   "id": "03b27d8c-9cc2-4726-9f94-e397a73d9b1d",
   "metadata": {},
   "outputs": [],
   "source": [
    "a={1,2,3,4,5}"
   ]
  },
  {
   "cell_type": "code",
   "execution_count": 112,
   "id": "0189b435-4898-40e3-9a13-5a4406e2b0ad",
   "metadata": {},
   "outputs": [],
   "source": [
    "a.remove(4)"
   ]
  },
  {
   "cell_type": "code",
   "execution_count": 114,
   "id": "6910957f-25a4-4a6a-9e93-1c238bc1190b",
   "metadata": {},
   "outputs": [
    {
     "data": {
      "text/plain": [
       "{1, 2, 3, 5}"
      ]
     },
     "execution_count": 114,
     "metadata": {},
     "output_type": "execute_result"
    }
   ],
   "source": [
    "a"
   ]
  },
  {
   "cell_type": "code",
   "execution_count": 116,
   "id": "1c51e7d4-e54e-4b2a-81b6-f3129b554dcb",
   "metadata": {},
   "outputs": [
    {
     "ename": "TypeError",
     "evalue": "set.remove() takes exactly one argument (0 given)",
     "output_type": "error",
     "traceback": [
      "\u001b[1;31m---------------------------------------------------------------------------\u001b[0m",
      "\u001b[1;31mTypeError\u001b[0m                                 Traceback (most recent call last)",
      "Cell \u001b[1;32mIn[116], line 1\u001b[0m\n\u001b[1;32m----> 1\u001b[0m a\u001b[38;5;241m.\u001b[39mremove()\n",
      "\u001b[1;31mTypeError\u001b[0m: set.remove() takes exactly one argument (0 given)"
     ]
    }
   ],
   "source": [
    "a.remove()"
   ]
  },
  {
   "cell_type": "code",
   "execution_count": 118,
   "id": "859b12f3-2ff4-42bd-a4b9-a12a1255629a",
   "metadata": {},
   "outputs": [
    {
     "ename": "KeyError",
     "evalue": "7",
     "output_type": "error",
     "traceback": [
      "\u001b[1;31m---------------------------------------------------------------------------\u001b[0m",
      "\u001b[1;31mKeyError\u001b[0m                                  Traceback (most recent call last)",
      "Cell \u001b[1;32mIn[118], line 1\u001b[0m\n\u001b[1;32m----> 1\u001b[0m a\u001b[38;5;241m.\u001b[39mremove(\u001b[38;5;241m7\u001b[39m)\n",
      "\u001b[1;31mKeyError\u001b[0m: 7"
     ]
    }
   ],
   "source": [
    "a.remove(7)"
   ]
  },
  {
   "cell_type": "code",
   "execution_count": 120,
   "id": "633e0c31-41b9-48be-91b3-e67fba5207bd",
   "metadata": {},
   "outputs": [],
   "source": [
    "a.discard(2)"
   ]
  },
  {
   "cell_type": "code",
   "execution_count": 122,
   "id": "e20a61f3-3068-41f5-a9d2-1fed2fc14089",
   "metadata": {},
   "outputs": [
    {
     "data": {
      "text/plain": [
       "{1, 3, 5}"
      ]
     },
     "execution_count": 122,
     "metadata": {},
     "output_type": "execute_result"
    }
   ],
   "source": [
    "a"
   ]
  },
  {
   "cell_type": "code",
   "execution_count": 124,
   "id": "45ce4a70-d05d-49b5-a1ce-d47777fde242",
   "metadata": {},
   "outputs": [
    {
     "ename": "TypeError",
     "evalue": "set.discard() takes exactly one argument (0 given)",
     "output_type": "error",
     "traceback": [
      "\u001b[1;31m---------------------------------------------------------------------------\u001b[0m",
      "\u001b[1;31mTypeError\u001b[0m                                 Traceback (most recent call last)",
      "Cell \u001b[1;32mIn[124], line 1\u001b[0m\n\u001b[1;32m----> 1\u001b[0m a\u001b[38;5;241m.\u001b[39mdiscard()\n",
      "\u001b[1;31mTypeError\u001b[0m: set.discard() takes exactly one argument (0 given)"
     ]
    }
   ],
   "source": [
    "a.discard()"
   ]
  },
  {
   "cell_type": "code",
   "execution_count": 126,
   "id": "8a256d14-2b34-4f7f-8f27-c93a1335cc15",
   "metadata": {},
   "outputs": [],
   "source": [
    "a.discard(7)"
   ]
  },
  {
   "cell_type": "code",
   "execution_count": 130,
   "id": "93ff654b-66b6-4a35-af95-4127d810585f",
   "metadata": {},
   "outputs": [
    {
     "data": {
      "text/plain": [
       "1"
      ]
     },
     "execution_count": 130,
     "metadata": {},
     "output_type": "execute_result"
    }
   ],
   "source": [
    "a.pop()"
   ]
  },
  {
   "cell_type": "code",
   "execution_count": 132,
   "id": "855d1d26-207c-4666-875d-ba0f5231d260",
   "metadata": {},
   "outputs": [
    {
     "data": {
      "text/plain": [
       "{3, 5}"
      ]
     },
     "execution_count": 132,
     "metadata": {},
     "output_type": "execute_result"
    }
   ],
   "source": [
    "a"
   ]
  },
  {
   "cell_type": "code",
   "execution_count": 134,
   "id": "e3ddf196-1c94-47fe-99b1-05dbcbc82061",
   "metadata": {},
   "outputs": [
    {
     "ename": "TypeError",
     "evalue": "set.pop() takes no arguments (1 given)",
     "output_type": "error",
     "traceback": [
      "\u001b[1;31m---------------------------------------------------------------------------\u001b[0m",
      "\u001b[1;31mTypeError\u001b[0m                                 Traceback (most recent call last)",
      "Cell \u001b[1;32mIn[134], line 1\u001b[0m\n\u001b[1;32m----> 1\u001b[0m a\u001b[38;5;241m.\u001b[39mpop(\u001b[38;5;241m3\u001b[39m)\n",
      "\u001b[1;31mTypeError\u001b[0m: set.pop() takes no arguments (1 given)"
     ]
    }
   ],
   "source": [
    "a.pop(3)"
   ]
  },
  {
   "cell_type": "code",
   "execution_count": 136,
   "id": "dfc3859c-0de1-4e5a-82c3-19d94aae0e0b",
   "metadata": {},
   "outputs": [
    {
     "data": {
      "text/plain": [
       "3"
      ]
     },
     "execution_count": 136,
     "metadata": {},
     "output_type": "execute_result"
    }
   ],
   "source": [
    "a.pop()"
   ]
  },
  {
   "cell_type": "code",
   "execution_count": 138,
   "id": "caccc2c8-b539-4f81-895d-47cdd4cae134",
   "metadata": {},
   "outputs": [
    {
     "data": {
      "text/plain": [
       "{5}"
      ]
     },
     "execution_count": 138,
     "metadata": {},
     "output_type": "execute_result"
    }
   ],
   "source": [
    "a"
   ]
  },
  {
   "cell_type": "markdown",
   "id": "3ce4cb08-9eb1-4928-9746-145c0b210c5b",
   "metadata": {},
   "source": [
    "# listda remove qilish"
   ]
  },
  {
   "cell_type": "code",
   "execution_count": 141,
   "id": "431e958d-d43a-4111-857e-b0105b8aca34",
   "metadata": {},
   "outputs": [],
   "source": [
    "a = [5,7.5,6,8,9,2]"
   ]
  },
  {
   "cell_type": "code",
   "execution_count": 143,
   "id": "002eea09-35b4-41e0-89a2-b3c4c032de26",
   "metadata": {},
   "outputs": [
    {
     "data": {
      "text/plain": [
       "[5, 7.5, 6, 8, 9, 2]"
      ]
     },
     "execution_count": 143,
     "metadata": {},
     "output_type": "execute_result"
    }
   ],
   "source": [
    "a"
   ]
  },
  {
   "cell_type": "code",
   "execution_count": 145,
   "id": "2cdd4953-0831-42f0-b699-611eaa44650a",
   "metadata": {},
   "outputs": [
    {
     "data": {
      "text/plain": [
       "2"
      ]
     },
     "execution_count": 145,
     "metadata": {},
     "output_type": "execute_result"
    }
   ],
   "source": [
    "a.pop()"
   ]
  },
  {
   "cell_type": "code",
   "execution_count": 147,
   "id": "391feef2-98b2-4146-929c-6d3cebd37eab",
   "metadata": {},
   "outputs": [
    {
     "data": {
      "text/plain": [
       "[5, 7.5, 6, 8, 9]"
      ]
     },
     "execution_count": 147,
     "metadata": {},
     "output_type": "execute_result"
    }
   ],
   "source": [
    "a"
   ]
  },
  {
   "cell_type": "code",
   "execution_count": 151,
   "id": "a0d1456b-40c8-4b61-9347-75fffc51df6e",
   "metadata": {},
   "outputs": [
    {
     "ename": "AttributeError",
     "evalue": "'list' object has no attribute 'discard'",
     "output_type": "error",
     "traceback": [
      "\u001b[1;31m---------------------------------------------------------------------------\u001b[0m",
      "\u001b[1;31mAttributeError\u001b[0m                            Traceback (most recent call last)",
      "Cell \u001b[1;32mIn[151], line 1\u001b[0m\n\u001b[1;32m----> 1\u001b[0m a\u001b[38;5;241m.\u001b[39mdiscard(\u001b[38;5;241m5\u001b[39m)\n",
      "\u001b[1;31mAttributeError\u001b[0m: 'list' object has no attribute 'discard'"
     ]
    }
   ],
   "source": [
    "a.discard(5)"
   ]
  },
  {
   "cell_type": "code",
   "execution_count": null,
   "id": "ef51409a-a90f-47fd-be95-7bbb2825b588",
   "metadata": {},
   "outputs": [],
   "source": [
    "# setda 'remove, discard, pop barchasi ishlaydi, ammo listda faqat pop ishlaydi\n",
    "# setda pop eng birinchidagi raqamni uchiradi, listda eng oxiridagi. "
   ]
  },
  {
   "cell_type": "markdown",
   "id": "a70a9857-caa9-4c6d-9223-f8eb0b388004",
   "metadata": {},
   "source": [
    "# ikkita setni qushish"
   ]
  },
  {
   "cell_type": "code",
   "execution_count": 8,
   "id": "901b328a-616d-4893-abf0-d77256b86827",
   "metadata": {},
   "outputs": [],
   "source": [
    "s={10,5,55,43,7}\n",
    "d={1,3,7,9, 2, 8}"
   ]
  },
  {
   "cell_type": "code",
   "execution_count": 10,
   "id": "2a9e4eaa-e6d1-4589-874d-aa95f127ec3d",
   "metadata": {},
   "outputs": [
    {
     "data": {
      "text/plain": [
       "{5, 7, 10, 43, 55}"
      ]
     },
     "execution_count": 10,
     "metadata": {},
     "output_type": "execute_result"
    }
   ],
   "source": [
    "s"
   ]
  },
  {
   "cell_type": "code",
   "execution_count": 12,
   "id": "225a038f-b497-4f01-becd-7c6e67373eba",
   "metadata": {},
   "outputs": [
    {
     "data": {
      "text/plain": [
       "{1, 2, 3, 7, 8, 9}"
      ]
     },
     "execution_count": 12,
     "metadata": {},
     "output_type": "execute_result"
    }
   ],
   "source": [
    "d"
   ]
  },
  {
   "cell_type": "code",
   "execution_count": 14,
   "id": "bb685afa-7e3e-4142-a424-ce4c55211197",
   "metadata": {},
   "outputs": [
    {
     "data": {
      "text/plain": [
       "{1, 2, 3, 5, 7, 8, 9, 10, 43, 55}"
      ]
     },
     "execution_count": 14,
     "metadata": {},
     "output_type": "execute_result"
    }
   ],
   "source": [
    "s.union(d)"
   ]
  },
  {
   "cell_type": "code",
   "execution_count": 16,
   "id": "157db41b-b954-4245-9351-f3c0ab091075",
   "metadata": {},
   "outputs": [
    {
     "data": {
      "text/plain": [
       "{1, 2, 3, 5, 7, 8, 9, 10, 43, 55}"
      ]
     },
     "execution_count": 16,
     "metadata": {},
     "output_type": "execute_result"
    }
   ],
   "source": [
    "d.union(s)"
   ]
  },
  {
   "cell_type": "markdown",
   "id": "f3ff8033-3ddd-4cca-8fbf-2419679d1a12",
   "metadata": {},
   "source": [
    "# ikki setdagi bir xil sonlarni topish"
   ]
  },
  {
   "cell_type": "code",
   "execution_count": 19,
   "id": "1d97dd33-ebea-4cf5-a4d9-195777e9858b",
   "metadata": {},
   "outputs": [
    {
     "data": {
      "text/plain": [
       "{7}"
      ]
     },
     "execution_count": 19,
     "metadata": {},
     "output_type": "execute_result"
    }
   ],
   "source": [
    "s.intersection(d)"
   ]
  },
  {
   "cell_type": "code",
   "execution_count": 21,
   "id": "89b8f876-d3ca-47e0-b7a9-8264fec0873c",
   "metadata": {},
   "outputs": [
    {
     "data": {
      "text/plain": [
       "{7}"
      ]
     },
     "execution_count": 21,
     "metadata": {},
     "output_type": "execute_result"
    }
   ],
   "source": [
    "d.intersection(s)"
   ]
  },
  {
   "cell_type": "markdown",
   "id": "2ce5c4c4-f460-4d27-8274-4ac3cd24ee8a",
   "metadata": {},
   "source": [
    "# ikki setdagi farqlarni topish"
   ]
  },
  {
   "cell_type": "code",
   "execution_count": 26,
   "id": "625665df-e574-4421-a6cd-29a4293a8a45",
   "metadata": {},
   "outputs": [
    {
     "data": {
      "text/plain": [
       "{5, 10, 43, 55}"
      ]
     },
     "execution_count": 26,
     "metadata": {},
     "output_type": "execute_result"
    }
   ],
   "source": [
    "s.difference(d)"
   ]
  },
  {
   "cell_type": "code",
   "execution_count": 28,
   "id": "d92004a5-2b0a-4c1b-a478-204a91c45f38",
   "metadata": {},
   "outputs": [
    {
     "data": {
      "text/plain": [
       "{1, 2, 3, 8, 9}"
      ]
     },
     "execution_count": 28,
     "metadata": {},
     "output_type": "execute_result"
    }
   ],
   "source": [
    "d.difference(s)"
   ]
  },
  {
   "cell_type": "markdown",
   "id": "35338035-ccde-4648-bed1-41b3e731e13d",
   "metadata": {},
   "source": [
    "# issubset "
   ]
  },
  {
   "cell_type": "code",
   "execution_count": 35,
   "id": "9182ce9b-a79e-45c2-b67e-8f137dac8640",
   "metadata": {},
   "outputs": [],
   "source": [
    "a={3,4,5,6,7,8}\n",
    "b={3,6}"
   ]
  },
  {
   "cell_type": "code",
   "execution_count": 37,
   "id": "b2c80e5e-2f65-49fe-b6e9-b3ad51c223d6",
   "metadata": {},
   "outputs": [
    {
     "data": {
      "text/plain": [
       "False"
      ]
     },
     "execution_count": 37,
     "metadata": {},
     "output_type": "execute_result"
    }
   ],
   "source": [
    "a.issubset(b)"
   ]
  },
  {
   "cell_type": "code",
   "execution_count": 39,
   "id": "95e007e7-99ca-4fba-8a65-4502a5f8e374",
   "metadata": {},
   "outputs": [
    {
     "data": {
      "text/plain": [
       "True"
      ]
     },
     "execution_count": 39,
     "metadata": {},
     "output_type": "execute_result"
    }
   ],
   "source": [
    "b.issubset(a)"
   ]
  },
  {
   "cell_type": "markdown",
   "id": "a4ef45f2-cfe4-43c2-87d2-1755f1b5ff84",
   "metadata": {},
   "source": [
    "# isdisjoint"
   ]
  },
  {
   "cell_type": "code",
   "execution_count": 42,
   "id": "a4acae35-4c6a-45bd-b272-e72463e22708",
   "metadata": {},
   "outputs": [
    {
     "data": {
      "text/plain": [
       "False"
      ]
     },
     "execution_count": 42,
     "metadata": {},
     "output_type": "execute_result"
    }
   ],
   "source": [
    "a.isdisjoint(b)"
   ]
  },
  {
   "cell_type": "code",
   "execution_count": 44,
   "id": "2533c46c-3ec6-423b-ae1b-9e1a23252dcf",
   "metadata": {},
   "outputs": [
    {
     "data": {
      "text/plain": [
       "False"
      ]
     },
     "execution_count": 44,
     "metadata": {},
     "output_type": "execute_result"
    }
   ],
   "source": [
    "b.isdisjoint(a)"
   ]
  },
  {
   "cell_type": "code",
   "execution_count": 46,
   "id": "4b21c77d-317b-447e-bab8-d51f2780f6ac",
   "metadata": {},
   "outputs": [],
   "source": [
    "a={1,3,5}\n",
    "b={2,4,6,8}"
   ]
  },
  {
   "cell_type": "code",
   "execution_count": 48,
   "id": "e518eb87-7c8a-4876-a679-9ae187ece03d",
   "metadata": {},
   "outputs": [
    {
     "data": {
      "text/plain": [
       "True"
      ]
     },
     "execution_count": 48,
     "metadata": {},
     "output_type": "execute_result"
    }
   ],
   "source": [
    "a.isdisjoint(b)"
   ]
  },
  {
   "cell_type": "code",
   "execution_count": 50,
   "id": "b44985bb-ef3b-4b03-93f0-34dd5c16c712",
   "metadata": {},
   "outputs": [
    {
     "data": {
      "text/plain": [
       "True"
      ]
     },
     "execution_count": 50,
     "metadata": {},
     "output_type": "execute_result"
    }
   ],
   "source": [
    "b.isdisjoint(a)"
   ]
  },
  {
   "cell_type": "markdown",
   "id": "539a5d0d-5351-4e28-bac9-9f914fb7fec2",
   "metadata": {},
   "source": [
    "# setni tozalash"
   ]
  },
  {
   "cell_type": "code",
   "execution_count": 53,
   "id": "95396bde-8ce7-4e3b-a528-89f8860d7639",
   "metadata": {},
   "outputs": [
    {
     "data": {
      "text/plain": [
       "{2, 4, 6, 8}"
      ]
     },
     "execution_count": 53,
     "metadata": {},
     "output_type": "execute_result"
    }
   ],
   "source": [
    "b"
   ]
  },
  {
   "cell_type": "code",
   "execution_count": 55,
   "id": "b78a1182-8d7c-4294-8b69-37ff1da1baa7",
   "metadata": {},
   "outputs": [],
   "source": [
    "b.clear()"
   ]
  },
  {
   "cell_type": "code",
   "execution_count": 57,
   "id": "bb183707-372f-4b42-a58f-28de038e3f28",
   "metadata": {},
   "outputs": [
    {
     "data": {
      "text/plain": [
       "set()"
      ]
     },
     "execution_count": 57,
     "metadata": {},
     "output_type": "execute_result"
    }
   ],
   "source": [
    "b"
   ]
  },
  {
   "cell_type": "code",
   "execution_count": 61,
   "id": "64f6719f-892d-402f-a9c8-61cc5d43e3a7",
   "metadata": {},
   "outputs": [],
   "source": [
    "a=[5,7,8,9]"
   ]
  },
  {
   "cell_type": "code",
   "execution_count": 63,
   "id": "329fab08-44e2-4972-862b-d1747aff265a",
   "metadata": {},
   "outputs": [
    {
     "data": {
      "text/plain": [
       "[5, 7, 8, 9]"
      ]
     },
     "execution_count": 63,
     "metadata": {},
     "output_type": "execute_result"
    }
   ],
   "source": [
    "a"
   ]
  },
  {
   "cell_type": "code",
   "execution_count": 65,
   "id": "3419cb51-b29f-46f9-a767-1f44aec416f8",
   "metadata": {},
   "outputs": [],
   "source": [
    "a.clear()"
   ]
  },
  {
   "cell_type": "code",
   "execution_count": 68,
   "id": "daebb8e3-7aff-43fd-bacb-6b592fe7bc7c",
   "metadata": {},
   "outputs": [
    {
     "data": {
      "text/plain": [
       "[]"
      ]
     },
     "execution_count": 68,
     "metadata": {},
     "output_type": "execute_result"
    }
   ],
   "source": [
    "a"
   ]
  },
  {
   "cell_type": "code",
   "execution_count": null,
   "id": "78c0e3be-c06c-4f40-9b46-50bcff788f65",
   "metadata": {},
   "outputs": [],
   "source": []
  }
 ],
 "metadata": {
  "kernelspec": {
   "display_name": "Python [conda env:base] *",
   "language": "python",
   "name": "conda-base-py"
  },
  "language_info": {
   "codemirror_mode": {
    "name": "ipython",
    "version": 3
   },
   "file_extension": ".py",
   "mimetype": "text/x-python",
   "name": "python",
   "nbconvert_exporter": "python",
   "pygments_lexer": "ipython3",
   "version": "3.12.7"
  }
 },
 "nbformat": 4,
 "nbformat_minor": 5
}
