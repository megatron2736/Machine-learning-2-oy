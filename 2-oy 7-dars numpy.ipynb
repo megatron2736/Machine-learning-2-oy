{
 "cells": [
  {
   "cell_type": "markdown",
   "id": "d1a75443-eab1-4d4a-bdeb-eefbc2a5117c",
   "metadata": {},
   "source": [
    "# numpy yaratish"
   ]
  },
  {
   "cell_type": "code",
   "execution_count": 1,
   "id": "de04f3ee-d673-4d45-b328-ceeaae59ce87",
   "metadata": {},
   "outputs": [],
   "source": [
    "import numpy as np "
   ]
  },
  {
   "cell_type": "code",
   "execution_count": 3,
   "id": "178f4a38-c006-46f7-b9b2-19a5e04edb34",
   "metadata": {},
   "outputs": [],
   "source": [
    "a1=np.array([1,3,5,7,9,11])"
   ]
  },
  {
   "cell_type": "code",
   "execution_count": 4,
   "id": "51f39750-2de8-4eb2-b055-58308f011951",
   "metadata": {},
   "outputs": [
    {
     "data": {
      "text/plain": [
       "array([ 1,  3,  5,  7,  9, 11])"
      ]
     },
     "execution_count": 4,
     "metadata": {},
     "output_type": "execute_result"
    }
   ],
   "source": [
    "a1"
   ]
  },
  {
   "cell_type": "code",
   "execution_count": 7,
   "id": "c829d534-2c1c-4e2d-bc1e-82e5db18bddc",
   "metadata": {},
   "outputs": [
    {
     "data": {
      "text/plain": [
       "1"
      ]
     },
     "execution_count": 7,
     "metadata": {},
     "output_type": "execute_result"
    }
   ],
   "source": [
    "a1[0]"
   ]
  },
  {
   "cell_type": "code",
   "execution_count": 9,
   "id": "9a4988e4-6d84-4c95-8580-cc5ab83ea3e1",
   "metadata": {},
   "outputs": [
    {
     "data": {
      "text/plain": [
       "numpy.ndarray"
      ]
     },
     "execution_count": 9,
     "metadata": {},
     "output_type": "execute_result"
    }
   ],
   "source": [
    "type(a1)"
   ]
  },
  {
   "cell_type": "code",
   "execution_count": 11,
   "id": "5017642c-cded-4cc9-82dc-e567d703c910",
   "metadata": {},
   "outputs": [
    {
     "data": {
      "text/plain": [
       "numpy.int32"
      ]
     },
     "execution_count": 11,
     "metadata": {},
     "output_type": "execute_result"
    }
   ],
   "source": [
    "type(a1[0])"
   ]
  },
  {
   "cell_type": "markdown",
   "id": "23d5a861-cff5-49fc-83e2-f22b67a1ec12",
   "metadata": {},
   "source": [
    "# 2-D matritsa"
   ]
  },
  {
   "cell_type": "code",
   "execution_count": 14,
   "id": "10b60db3-39c8-4947-9be3-c2f84a6aef6a",
   "metadata": {},
   "outputs": [],
   "source": [
    "a2=np.array([[0,2,4],[6,8,10],[12,14,16],[18,20,22]])"
   ]
  },
  {
   "cell_type": "code",
   "execution_count": 16,
   "id": "f79d8ad0-8246-4efb-bff3-57de4c8bffa7",
   "metadata": {},
   "outputs": [
    {
     "data": {
      "text/plain": [
       "array([[ 0,  2,  4],\n",
       "       [ 6,  8, 10],\n",
       "       [12, 14, 16],\n",
       "       [18, 20, 22]])"
      ]
     },
     "execution_count": 16,
     "metadata": {},
     "output_type": "execute_result"
    }
   ],
   "source": [
    "a2"
   ]
  },
  {
   "cell_type": "code",
   "execution_count": 18,
   "id": "e68f94c6-ff4a-4c71-89db-3cf51d010cf3",
   "metadata": {},
   "outputs": [
    {
     "data": {
      "text/plain": [
       "(4, 3)"
      ]
     },
     "execution_count": 18,
     "metadata": {},
     "output_type": "execute_result"
    }
   ],
   "source": [
    "a2.shape"
   ]
  },
  {
   "cell_type": "code",
   "execution_count": 20,
   "id": "355faf07-e20b-47e9-8fb0-303d0d183c78",
   "metadata": {},
   "outputs": [
    {
     "data": {
      "text/plain": [
       "12"
      ]
     },
     "execution_count": 20,
     "metadata": {},
     "output_type": "execute_result"
    }
   ],
   "source": [
    "a2.size"
   ]
  },
  {
   "cell_type": "code",
   "execution_count": 22,
   "id": "2ad61471-d3df-42bb-94e7-3a8d29e09789",
   "metadata": {},
   "outputs": [
    {
     "data": {
      "text/plain": [
       "4"
      ]
     },
     "execution_count": 22,
     "metadata": {},
     "output_type": "execute_result"
    }
   ],
   "source": [
    "len(a2)"
   ]
  },
  {
   "cell_type": "code",
   "execution_count": 24,
   "id": "021ec143-da6c-4b39-81ad-01605cae6b96",
   "metadata": {},
   "outputs": [
    {
     "data": {
      "text/plain": [
       "dtype('int32')"
      ]
     },
     "execution_count": 24,
     "metadata": {},
     "output_type": "execute_result"
    }
   ],
   "source": [
    "a2.dtype"
   ]
  },
  {
   "cell_type": "markdown",
   "id": "93b46299-c53d-43db-a2f6-dacb40475f44",
   "metadata": {},
   "source": [
    "# Numpy vs List ular ustida amallar"
   ]
  },
  {
   "cell_type": "code",
   "execution_count": 27,
   "id": "1c8c2b77-b4ed-4f9d-980d-63968ec2bf6f",
   "metadata": {},
   "outputs": [],
   "source": [
    "b=[2,3,5,7]"
   ]
  },
  {
   "cell_type": "code",
   "execution_count": 29,
   "id": "7557f392-4a6d-4b64-a3ac-4074bc789ee8",
   "metadata": {},
   "outputs": [
    {
     "name": "stdout",
     "output_type": "stream",
     "text": [
      "8\n",
      "27\n",
      "125\n",
      "343\n"
     ]
    }
   ],
   "source": [
    "for i in b: \n",
    "    print(i**3)"
   ]
  },
  {
   "cell_type": "code",
   "execution_count": 31,
   "id": "ee5459d2-d0a7-4404-99a1-90a64d0f04ac",
   "metadata": {},
   "outputs": [
    {
     "ename": "TypeError",
     "evalue": "can only concatenate list (not \"int\") to list",
     "output_type": "error",
     "traceback": [
      "\u001b[1;31m---------------------------------------------------------------------------\u001b[0m",
      "\u001b[1;31mTypeError\u001b[0m                                 Traceback (most recent call last)",
      "Cell \u001b[1;32mIn[31], line 1\u001b[0m\n\u001b[1;32m----> 1\u001b[0m b\u001b[38;5;241m+\u001b[39m\u001b[38;5;241m5\u001b[39m\n",
      "\u001b[1;31mTypeError\u001b[0m: can only concatenate list (not \"int\") to list"
     ]
    }
   ],
   "source": [
    "b+5"
   ]
  },
  {
   "cell_type": "code",
   "execution_count": 33,
   "id": "96a7844e-e6fb-43e6-9b0e-eb2ba06a724a",
   "metadata": {},
   "outputs": [
    {
     "data": {
      "text/plain": [
       "array([ 1,  3,  5,  7,  9, 11])"
      ]
     },
     "execution_count": 33,
     "metadata": {},
     "output_type": "execute_result"
    }
   ],
   "source": [
    "a1"
   ]
  },
  {
   "cell_type": "code",
   "execution_count": 35,
   "id": "e7830c1f-72b2-4e66-88a7-09ec75f01ddd",
   "metadata": {},
   "outputs": [
    {
     "data": {
      "text/plain": [
       "array([ 6,  8, 10, 12, 14, 16])"
      ]
     },
     "execution_count": 35,
     "metadata": {},
     "output_type": "execute_result"
    }
   ],
   "source": [
    "a1+5"
   ]
  },
  {
   "cell_type": "code",
   "execution_count": 37,
   "id": "c7259eb3-a9a1-4838-ab1b-90b49e31f21d",
   "metadata": {},
   "outputs": [
    {
     "data": {
      "text/plain": [
       "array([ 1,  3,  5,  7,  9, 11])"
      ]
     },
     "execution_count": 37,
     "metadata": {},
     "output_type": "execute_result"
    }
   ],
   "source": [
    "a1"
   ]
  },
  {
   "cell_type": "code",
   "execution_count": 39,
   "id": "6c7f78ed-b480-4a60-ab66-26da48c9e907",
   "metadata": {},
   "outputs": [
    {
     "data": {
      "text/plain": [
       "array([ 9, 27, 45, 63, 81, 99])"
      ]
     },
     "execution_count": 39,
     "metadata": {},
     "output_type": "execute_result"
    }
   ],
   "source": [
    "a1*9"
   ]
  },
  {
   "cell_type": "code",
   "execution_count": 41,
   "id": "b7360775-063f-4a74-bf5c-6ec9e5f395e2",
   "metadata": {},
   "outputs": [
    {
     "data": {
      "text/plain": [
       "array([   1,   27,  125,  343,  729, 1331], dtype=int32)"
      ]
     },
     "execution_count": 41,
     "metadata": {},
     "output_type": "execute_result"
    }
   ],
   "source": [
    "a1**3"
   ]
  },
  {
   "cell_type": "code",
   "execution_count": 43,
   "id": "0a73129a-b5ee-486f-86f3-bd584de1d6c5",
   "metadata": {},
   "outputs": [
    {
     "data": {
      "text/plain": [
       "array([1])"
      ]
     },
     "execution_count": 43,
     "metadata": {},
     "output_type": "execute_result"
    }
   ],
   "source": [
    "a1[:1]"
   ]
  },
  {
   "cell_type": "code",
   "execution_count": 45,
   "id": "d5de55bf-a57f-4c4f-bd09-7135a79b2caa",
   "metadata": {},
   "outputs": [
    {
     "data": {
      "text/plain": [
       "array([ 7,  9, 11])"
      ]
     },
     "execution_count": 45,
     "metadata": {},
     "output_type": "execute_result"
    }
   ],
   "source": [
    "a1[3:]"
   ]
  },
  {
   "cell_type": "code",
   "execution_count": 49,
   "id": "a3f3e4a9-395d-4e2b-a196-0340546ddeb3",
   "metadata": {},
   "outputs": [
    {
     "data": {
      "text/plain": [
       "array([[ 0,  2,  4],\n",
       "       [ 6,  8, 10],\n",
       "       [12, 14, 16],\n",
       "       [18, 20, 22]])"
      ]
     },
     "execution_count": 49,
     "metadata": {},
     "output_type": "execute_result"
    }
   ],
   "source": [
    "a2"
   ]
  },
  {
   "cell_type": "code",
   "execution_count": 51,
   "id": "fbca713a-01d3-4899-be84-2c7267168af5",
   "metadata": {},
   "outputs": [
    {
     "data": {
      "text/plain": [
       "array([12, 14, 16])"
      ]
     },
     "execution_count": 51,
     "metadata": {},
     "output_type": "execute_result"
    }
   ],
   "source": [
    "a2[2]"
   ]
  },
  {
   "cell_type": "code",
   "execution_count": 55,
   "id": "f0d4d276-8b4b-4b69-86db-3860422a71ec",
   "metadata": {},
   "outputs": [
    {
     "data": {
      "text/plain": [
       "16"
      ]
     },
     "execution_count": 55,
     "metadata": {},
     "output_type": "execute_result"
    }
   ],
   "source": [
    "a2[2][2]"
   ]
  },
  {
   "cell_type": "code",
   "execution_count": 57,
   "id": "77819c1a-2454-4da5-ab1a-866c73f90474",
   "metadata": {},
   "outputs": [
    {
     "data": {
      "text/plain": [
       "array([[ 6,  8, 10],\n",
       "       [12, 14, 16],\n",
       "       [18, 20, 22]])"
      ]
     },
     "execution_count": 57,
     "metadata": {},
     "output_type": "execute_result"
    }
   ],
   "source": [
    "a2[1:]"
   ]
  },
  {
   "cell_type": "code",
   "execution_count": 59,
   "id": "a9da2c29-5cdd-4d0f-9f99-a01497849a04",
   "metadata": {},
   "outputs": [
    {
     "data": {
      "text/plain": [
       "array([[ 0,  2,  4],\n",
       "       [ 6,  8, 10],\n",
       "       [12, 14, 16],\n",
       "       [18, 20, 22]])"
      ]
     },
     "execution_count": 59,
     "metadata": {},
     "output_type": "execute_result"
    }
   ],
   "source": [
    "a2[:4]"
   ]
  },
  {
   "cell_type": "code",
   "execution_count": 63,
   "id": "5d028b7b-9520-4b02-b732-342db447ddef",
   "metadata": {},
   "outputs": [
    {
     "data": {
      "text/plain": [
       "array([ 2,  8, 14, 20])"
      ]
     },
     "execution_count": 63,
     "metadata": {},
     "output_type": "execute_result"
    }
   ],
   "source": [
    "a2[:,1]"
   ]
  },
  {
   "cell_type": "markdown",
   "id": "a84a6db5-a8fa-42c8-89e0-40aaa2395151",
   "metadata": {},
   "source": [
    "# qator"
   ]
  },
  {
   "cell_type": "code",
   "execution_count": 66,
   "id": "038c9970-d0ce-4033-be4e-35c5f024f2ba",
   "metadata": {},
   "outputs": [
    {
     "data": {
      "text/plain": [
       "array([0, 2, 4])"
      ]
     },
     "execution_count": 66,
     "metadata": {},
     "output_type": "execute_result"
    }
   ],
   "source": [
    "a2[0]"
   ]
  },
  {
   "cell_type": "markdown",
   "id": "a9004721-8d5a-467c-ba3a-6331c9c484d6",
   "metadata": {},
   "source": [
    "# ustun"
   ]
  },
  {
   "cell_type": "code",
   "execution_count": 72,
   "id": "73606629-2492-4349-bcd1-976243533487",
   "metadata": {},
   "outputs": [
    {
     "data": {
      "text/plain": [
       "array([ 0,  6, 12, 18])"
      ]
     },
     "execution_count": 72,
     "metadata": {},
     "output_type": "execute_result"
    }
   ],
   "source": [
    "a2[:,0]"
   ]
  },
  {
   "cell_type": "code",
   "execution_count": 74,
   "id": "f18e9454-1cd6-42ce-8eb3-6c59085d1d0b",
   "metadata": {},
   "outputs": [
    {
     "data": {
      "text/plain": [
       "(4, 3)"
      ]
     },
     "execution_count": 74,
     "metadata": {},
     "output_type": "execute_result"
    }
   ],
   "source": [
    "a2.shape"
   ]
  },
  {
   "cell_type": "code",
   "execution_count": 76,
   "id": "7db19e53-f430-413a-bed4-71649492a1cc",
   "metadata": {},
   "outputs": [
    {
     "data": {
      "text/plain": [
       "array([[ 0,  2],\n",
       "       [ 4,  6],\n",
       "       [ 8, 10],\n",
       "       [12, 14],\n",
       "       [16, 18],\n",
       "       [20, 22]])"
      ]
     },
     "execution_count": 76,
     "metadata": {},
     "output_type": "execute_result"
    }
   ],
   "source": [
    "a2.reshape(6,2)"
   ]
  },
  {
   "cell_type": "code",
   "execution_count": 78,
   "id": "30466ba5-edad-4f2c-b5b4-5a47d3489d97",
   "metadata": {},
   "outputs": [
    {
     "data": {
      "text/plain": [
       "array([[ 0,  2,  4],\n",
       "       [ 6,  8, 10],\n",
       "       [12, 14, 16],\n",
       "       [18, 20, 22]])"
      ]
     },
     "execution_count": 78,
     "metadata": {},
     "output_type": "execute_result"
    }
   ],
   "source": [
    "a2"
   ]
  },
  {
   "cell_type": "code",
   "execution_count": 80,
   "id": "b0a10448-22b8-4200-83f8-3577a86c9ac0",
   "metadata": {},
   "outputs": [
    {
     "data": {
      "text/plain": [
       "array([[ 0,  2,  4,  6],\n",
       "       [ 8, 10, 12, 14],\n",
       "       [16, 18, 20, 22]])"
      ]
     },
     "execution_count": 80,
     "metadata": {},
     "output_type": "execute_result"
    }
   ],
   "source": [
    "a2.reshape(3,4)"
   ]
  },
  {
   "cell_type": "code",
   "execution_count": 82,
   "id": "aa12838f-5c8c-4b76-aa72-e3354d5299ef",
   "metadata": {},
   "outputs": [
    {
     "data": {
      "text/plain": [
       "array([[ 0,  2,  4,  6,  8, 10, 12, 14, 16, 18, 20, 22]])"
      ]
     },
     "execution_count": 82,
     "metadata": {},
     "output_type": "execute_result"
    }
   ],
   "source": [
    "a2.reshape(1,12)"
   ]
  },
  {
   "cell_type": "code",
   "execution_count": 84,
   "id": "85e411c8-faea-49c3-99c0-a4da0d7aeb3d",
   "metadata": {},
   "outputs": [
    {
     "data": {
      "text/plain": [
       "array([[ 0],\n",
       "       [ 2],\n",
       "       [ 4],\n",
       "       [ 6],\n",
       "       [ 8],\n",
       "       [10],\n",
       "       [12],\n",
       "       [14],\n",
       "       [16],\n",
       "       [18],\n",
       "       [20],\n",
       "       [22]])"
      ]
     },
     "execution_count": 84,
     "metadata": {},
     "output_type": "execute_result"
    }
   ],
   "source": [
    "a2.reshape(12,1)"
   ]
  },
  {
   "cell_type": "markdown",
   "id": "153e5f61-c230-4cdf-ba99-682d58e34c8b",
   "metadata": {},
   "source": [
    "# time "
   ]
  },
  {
   "cell_type": "code",
   "execution_count": 87,
   "id": "3193a237-1f1b-4659-86aa-1b7054b0649b",
   "metadata": {},
   "outputs": [],
   "source": [
    "import time"
   ]
  },
  {
   "cell_type": "code",
   "execution_count": 89,
   "id": "f4e7dfc6-78d9-43e5-87ec-78f1c6eb2d38",
   "metadata": {},
   "outputs": [],
   "source": [
    "size=1_000_000\n",
    "python_list=list(range(size))\n",
    "numpy_array=np.arange(size)"
   ]
  },
  {
   "cell_type": "markdown",
   "id": "bfe9a373-32c1-45f0-8352-fa109ea38e02",
   "metadata": {},
   "source": [
    "#  Listni vaqtini xisoblash"
   ]
  },
  {
   "cell_type": "code",
   "execution_count": 92,
   "id": "f2a2b721-724e-49b4-af07-e689f7bd14f6",
   "metadata": {},
   "outputs": [],
   "source": [
    "start_time=time.time()\n",
    "python_list_tripled=[x**3 for x in python_list]\n",
    "end_time=time.time()\n",
    "python_time=end_time-start_time"
   ]
  },
  {
   "cell_type": "markdown",
   "id": "25d8f283-ac29-482c-aa50-364dc980dfc8",
   "metadata": {},
   "source": [
    "# Numpy vaqtini hisoblash"
   ]
  },
  {
   "cell_type": "code",
   "execution_count": 95,
   "id": "c10b79aa-ffed-4435-ae64-e978f00402c1",
   "metadata": {},
   "outputs": [],
   "source": [
    "start_time=time.time()\n",
    "numpy_sqared=numpy_array**2\n",
    "end_time=time.time()\n",
    "numpy_time=end_time-start_time"
   ]
  },
  {
   "cell_type": "code",
   "execution_count": 97,
   "id": "9ff91621-e0ff-4b8b-b65a-dbe61adc9eda",
   "metadata": {},
   "outputs": [
    {
     "name": "stdout",
     "output_type": "stream",
     "text": [
      "0.17971205711364746\n",
      "0.003021717071533203\n"
     ]
    }
   ],
   "source": [
    "print(python_time)\n",
    "print(numpy_time)"
   ]
  },
  {
   "cell_type": "code",
   "execution_count": 99,
   "id": "65435fe0-2158-4417-bb62-72af5319feba",
   "metadata": {},
   "outputs": [
    {
     "data": {
      "text/plain": [
       "59.4734890326653"
      ]
     },
     "execution_count": 99,
     "metadata": {},
     "output_type": "execute_result"
    }
   ],
   "source": [
    "python_time/numpy_time"
   ]
  },
  {
   "cell_type": "markdown",
   "id": "c7f51903-d81b-480c-b2ba-dc6169789de6",
   "metadata": {},
   "source": [
    "# listni vazifalarini numpyda qullash "
   ]
  },
  {
   "cell_type": "markdown",
   "id": "457c1aee-b28e-43be-8da8-2fab7de35cd3",
   "metadata": {},
   "source": [
    "# numpy yarating va unga elementlarni qo'shing"
   ]
  },
  {
   "cell_type": "code",
   "execution_count": 108,
   "id": "e2510b11-3fcb-4884-b003-2e4cdf152b7f",
   "metadata": {},
   "outputs": [],
   "source": [
    "a3=np.array([5,6,7,15,16,17])"
   ]
  },
  {
   "cell_type": "code",
   "execution_count": 120,
   "id": "35a7e9e7-6a65-4ad7-8350-a247047f3981",
   "metadata": {},
   "outputs": [],
   "source": [
    "a3=np.insert(a3,1,58)"
   ]
  },
  {
   "cell_type": "code",
   "execution_count": 122,
   "id": "e46965a0-f389-46db-b737-99d20af20800",
   "metadata": {},
   "outputs": [
    {
     "data": {
      "text/plain": [
       "array([ 5, 58,  6,  7, 15, 16, 17])"
      ]
     },
     "execution_count": 122,
     "metadata": {},
     "output_type": "execute_result"
    }
   ],
   "source": [
    "a3"
   ]
  },
  {
   "cell_type": "markdown",
   "id": "3f3243b8-bf5c-4110-baf9-02f7f6d9b022",
   "metadata": {},
   "source": [
    "# numpyning uzunligini toping"
   ]
  },
  {
   "cell_type": "code",
   "execution_count": 126,
   "id": "7210d0bf-37be-4ac7-8f1e-6e45b54917d1",
   "metadata": {},
   "outputs": [
    {
     "data": {
      "text/plain": [
       "7"
      ]
     },
     "execution_count": 126,
     "metadata": {},
     "output_type": "execute_result"
    }
   ],
   "source": [
    "len(a3)"
   ]
  },
  {
   "cell_type": "markdown",
   "id": "69392add-549a-4122-87e4-5338d060eb6c",
   "metadata": {},
   "source": [
    "# numpyning eng katta va eng kichik elementlarini toping"
   ]
  },
  {
   "cell_type": "code",
   "execution_count": 130,
   "id": "97ab0088-08dd-4ad6-a975-82c1259081ba",
   "metadata": {},
   "outputs": [
    {
     "data": {
      "text/plain": [
       "58"
      ]
     },
     "execution_count": 130,
     "metadata": {},
     "output_type": "execute_result"
    }
   ],
   "source": [
    "max(a3)"
   ]
  },
  {
   "cell_type": "code",
   "execution_count": 132,
   "id": "62ae3dc4-d914-4208-aee7-adb8b9f465e9",
   "metadata": {},
   "outputs": [
    {
     "data": {
      "text/plain": [
       "5"
      ]
     },
     "execution_count": 132,
     "metadata": {},
     "output_type": "execute_result"
    }
   ],
   "source": [
    "min(a3)"
   ]
  },
  {
   "cell_type": "code",
   "execution_count": 134,
   "id": "87a4676f-2bfa-4226-9785-133ff181e60b",
   "metadata": {},
   "outputs": [
    {
     "ename": "ValueError",
     "evalue": "The truth value of an array with more than one element is ambiguous. Use a.any() or a.all()",
     "output_type": "error",
     "traceback": [
      "\u001b[1;31m---------------------------------------------------------------------------\u001b[0m",
      "\u001b[1;31mValueError\u001b[0m                                Traceback (most recent call last)",
      "Cell \u001b[1;32mIn[134], line 1\u001b[0m\n\u001b[1;32m----> 1\u001b[0m \u001b[38;5;28mmax\u001b[39m(a2)\n",
      "\u001b[1;31mValueError\u001b[0m: The truth value of an array with more than one element is ambiguous. Use a.any() or a.all()"
     ]
    }
   ],
   "source": [
    "max(a2)"
   ]
  },
  {
   "cell_type": "code",
   "execution_count": 136,
   "id": "dec9a5d9-314b-421b-9385-53d7fbe23212",
   "metadata": {},
   "outputs": [
    {
     "data": {
      "text/plain": [
       "4"
      ]
     },
     "execution_count": 136,
     "metadata": {},
     "output_type": "execute_result"
    }
   ],
   "source": [
    "max(a2[0])"
   ]
  },
  {
   "cell_type": "markdown",
   "id": "77ee555b-38db-4fac-a54b-bb82fbec93a9",
   "metadata": {},
   "source": [
    "# numpyni teskari tartibda chiqaring"
   ]
  },
  {
   "cell_type": "code",
   "execution_count": 142,
   "id": "32799833-302c-40a7-b875-244c406d4349",
   "metadata": {},
   "outputs": [
    {
     "data": {
      "text/plain": [
       "array([17, 16, 15,  7,  6, 58,  5])"
      ]
     },
     "execution_count": 142,
     "metadata": {},
     "output_type": "execute_result"
    }
   ],
   "source": [
    "a3[::-1]"
   ]
  },
  {
   "cell_type": "code",
   "execution_count": 144,
   "id": "d38e04b6-3bf3-4ce8-ae5b-eaa82f9ac3b2",
   "metadata": {},
   "outputs": [
    {
     "data": {
      "text/plain": [
       "array([ 5, 58,  6,  7, 15, 16, 17])"
      ]
     },
     "execution_count": 144,
     "metadata": {},
     "output_type": "execute_result"
    }
   ],
   "source": [
    "a3"
   ]
  },
  {
   "cell_type": "code",
   "execution_count": 146,
   "id": "e62a7f30-bdce-422e-9c36-da58030b58fb",
   "metadata": {},
   "outputs": [
    {
     "data": {
      "text/plain": [
       "array([[18, 20, 22],\n",
       "       [12, 14, 16],\n",
       "       [ 6,  8, 10],\n",
       "       [ 0,  2,  4]])"
      ]
     },
     "execution_count": 146,
     "metadata": {},
     "output_type": "execute_result"
    }
   ],
   "source": [
    "a2[::-1]"
   ]
  },
  {
   "cell_type": "markdown",
   "id": "b8d2ea44-5220-4b09-9228-7785671f6686",
   "metadata": {},
   "source": [
    "# numpyni tozalang"
   ]
  },
  {
   "cell_type": "code",
   "execution_count": 155,
   "id": "fc67a136-25dc-43c3-96b5-17b88c031191",
   "metadata": {},
   "outputs": [
    {
     "ename": "AttributeError",
     "evalue": "'numpy.ndarray' object has no attribute 'clear'",
     "output_type": "error",
     "traceback": [
      "\u001b[1;31m---------------------------------------------------------------------------\u001b[0m",
      "\u001b[1;31mAttributeError\u001b[0m                            Traceback (most recent call last)",
      "Cell \u001b[1;32mIn[155], line 1\u001b[0m\n\u001b[1;32m----> 1\u001b[0m a3\u001b[38;5;241m.\u001b[39mclear()\n",
      "\u001b[1;31mAttributeError\u001b[0m: 'numpy.ndarray' object has no attribute 'clear'"
     ]
    }
   ],
   "source": [
    "a3.clear()"
   ]
  },
  {
   "cell_type": "code",
   "execution_count": 159,
   "id": "c2c4f782-56e3-44ea-9c6d-e88b74b2328a",
   "metadata": {},
   "outputs": [
    {
     "data": {
      "text/plain": [
       "array([ 5, 58,  6,  7, 15, 16, 17])"
      ]
     },
     "execution_count": 159,
     "metadata": {},
     "output_type": "execute_result"
    }
   ],
   "source": [
    "a3"
   ]
  },
  {
   "cell_type": "code",
   "execution_count": 163,
   "id": "c9bc61e5-31ce-4fb0-9d57-07e56adda13f",
   "metadata": {},
   "outputs": [],
   "source": [
    "a3=np.array([])"
   ]
  },
  {
   "cell_type": "code",
   "execution_count": 165,
   "id": "d8f8fd83-49fa-4d3b-98b4-c26d90c73ede",
   "metadata": {},
   "outputs": [
    {
     "data": {
      "text/plain": [
       "array([], dtype=float64)"
      ]
     },
     "execution_count": 165,
     "metadata": {},
     "output_type": "execute_result"
    }
   ],
   "source": [
    "a3"
   ]
  },
  {
   "cell_type": "code",
   "execution_count": null,
   "id": "e06a3c6c-a794-46a8-bfd4-e372dc7222aa",
   "metadata": {},
   "outputs": [],
   "source": []
  }
 ],
 "metadata": {
  "kernelspec": {
   "display_name": "Python [conda env:base] *",
   "language": "python",
   "name": "conda-base-py"
  },
  "language_info": {
   "codemirror_mode": {
    "name": "ipython",
    "version": 3
   },
   "file_extension": ".py",
   "mimetype": "text/x-python",
   "name": "python",
   "nbconvert_exporter": "python",
   "pygments_lexer": "ipython3",
   "version": "3.12.7"
  }
 },
 "nbformat": 4,
 "nbformat_minor": 5
}
