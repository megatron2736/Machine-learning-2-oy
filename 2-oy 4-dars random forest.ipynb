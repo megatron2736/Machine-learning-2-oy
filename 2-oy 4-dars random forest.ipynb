{
 "cells": [
  {
   "cell_type": "code",
   "execution_count": 64,
   "id": "d6859481-68aa-4535-854f-b8545f6eafe3",
   "metadata": {},
   "outputs": [],
   "source": [
    "import pandas as pd\n",
    "import numpy as np \n",
    "import klib\n",
    "import seaborn as sns \n",
    "import matplotlib.pyplot as plt\n",
    "from sklearn.preprocessing import StandardScaler, LabelEncoder\n",
    "from sklearn.feature_selection import SelectKBest, f_regression, mutual_info_regression\n",
    "from sklearn.model_selection import train_test_split, KFold, cross_val_score \n",
    "from sklearn.linear_model import LinearRegression\n",
    "from sklearn.tree import DecisionTreeRegressor\n",
    "from sklearn.ensemble import RandomForestRegressor\n",
    "from sklearn.metrics import mean_squared_error, r2_score\n",
    "from sklearn.preprocessing import KBinsDiscretizer"
   ]
  },
  {
   "cell_type": "code",
   "execution_count": 2,
   "id": "7a744f56-149d-4382-86ef-4e168b30cd13",
   "metadata": {},
   "outputs": [],
   "source": [
    "df=pd.read_csv('top_expensive_leagues.csv')"
   ]
  },
  {
   "cell_type": "code",
   "execution_count": 3,
   "id": "789c247e-5654-4ec8-b973-24ee245a1f89",
   "metadata": {},
   "outputs": [
    {
     "name": "stdout",
     "output_type": "stream",
     "text": [
      "<class 'pandas.core.frame.DataFrame'>\n",
      "RangeIndex: 700 entries, 0 to 699\n",
      "Data columns (total 10 columns):\n",
      " #   Column                       Non-Null Count  Dtype  \n",
      "---  ------                       --------------  -----  \n",
      " 0   League ID                    700 non-null    object \n",
      " 1   League Name                  700 non-null    object \n",
      " 2   Country                      700 non-null    object \n",
      " 3   Sport                        700 non-null    object \n",
      " 4   Revenue (USD)                700 non-null    float64\n",
      " 5   Average Player Salary (USD)  700 non-null    object \n",
      " 6   Top Team                     700 non-null    object \n",
      " 7   Total Teams                  700 non-null    int64  \n",
      " 8   Founded Year                 700 non-null    float64\n",
      " 9   Viewership                   696 non-null    float64\n",
      "dtypes: float64(3), int64(1), object(6)\n",
      "memory usage: 54.8+ KB\n"
     ]
    }
   ],
   "source": [
    "df.info()"
   ]
  },
  {
   "cell_type": "code",
   "execution_count": 4,
   "id": "6ef4f42e-50f6-4460-b570-528309f16e67",
   "metadata": {},
   "outputs": [
    {
     "data": {
      "text/html": [
       "<div>\n",
       "<style scoped>\n",
       "    .dataframe tbody tr th:only-of-type {\n",
       "        vertical-align: middle;\n",
       "    }\n",
       "\n",
       "    .dataframe tbody tr th {\n",
       "        vertical-align: top;\n",
       "    }\n",
       "\n",
       "    .dataframe thead th {\n",
       "        text-align: right;\n",
       "    }\n",
       "</style>\n",
       "<table border=\"1\" class=\"dataframe\">\n",
       "  <thead>\n",
       "    <tr style=\"text-align: right;\">\n",
       "      <th></th>\n",
       "      <th>League ID</th>\n",
       "      <th>League Name</th>\n",
       "      <th>Country</th>\n",
       "      <th>Sport</th>\n",
       "      <th>Revenue (USD)</th>\n",
       "      <th>Average Player Salary (USD)</th>\n",
       "      <th>Top Team</th>\n",
       "      <th>Total Teams</th>\n",
       "      <th>Founded Year</th>\n",
       "      <th>Viewership</th>\n",
       "    </tr>\n",
       "  </thead>\n",
       "  <tbody>\n",
       "    <tr>\n",
       "      <th>0</th>\n",
       "      <td>L001</td>\n",
       "      <td>Premier League</td>\n",
       "      <td>England</td>\n",
       "      <td>Football</td>\n",
       "      <td>5.275330e+09</td>\n",
       "      <td>12080000.0</td>\n",
       "      <td>Liverpool</td>\n",
       "      <td>16</td>\n",
       "      <td>1886.0</td>\n",
       "      <td>485.90</td>\n",
       "    </tr>\n",
       "    <tr>\n",
       "      <th>1</th>\n",
       "      <td>L002</td>\n",
       "      <td>Serie A</td>\n",
       "      <td>India</td>\n",
       "      <td>American Football</td>\n",
       "      <td>7.088640e+09</td>\n",
       "      <td>6730000.0</td>\n",
       "      <td>Inter Milan</td>\n",
       "      <td>13</td>\n",
       "      <td>1977.0</td>\n",
       "      <td>135.01</td>\n",
       "    </tr>\n",
       "    <tr>\n",
       "      <th>2</th>\n",
       "      <td>L003</td>\n",
       "      <td>IPL</td>\n",
       "      <td>England</td>\n",
       "      <td>American Football</td>\n",
       "      <td>7.930520e+09</td>\n",
       "      <td>14360000.0</td>\n",
       "      <td>Chennai Super Kings</td>\n",
       "      <td>13</td>\n",
       "      <td>1979.0</td>\n",
       "      <td>157.49</td>\n",
       "    </tr>\n",
       "    <tr>\n",
       "      <th>3</th>\n",
       "      <td>L004</td>\n",
       "      <td>La Liga</td>\n",
       "      <td>Spain</td>\n",
       "      <td>American Football</td>\n",
       "      <td>4.972890e+09</td>\n",
       "      <td>13720000.0</td>\n",
       "      <td>Atletico Madrid</td>\n",
       "      <td>22</td>\n",
       "      <td>1999.0</td>\n",
       "      <td>245.71</td>\n",
       "    </tr>\n",
       "    <tr>\n",
       "      <th>4</th>\n",
       "      <td>L005</td>\n",
       "      <td>Serie A</td>\n",
       "      <td>Italy</td>\n",
       "      <td>Basketball</td>\n",
       "      <td>6.265740e+09</td>\n",
       "      <td>7450000.0</td>\n",
       "      <td>Juventus</td>\n",
       "      <td>16</td>\n",
       "      <td>1963.0</td>\n",
       "      <td>52.83</td>\n",
       "    </tr>\n",
       "  </tbody>\n",
       "</table>\n",
       "</div>"
      ],
      "text/plain": [
       "  League ID     League Name  Country              Sport  Revenue (USD)  \\\n",
       "0      L001  Premier League  England           Football   5.275330e+09   \n",
       "1      L002         Serie A    India  American Football   7.088640e+09   \n",
       "2      L003             IPL  England  American Football   7.930520e+09   \n",
       "3      L004         La Liga    Spain  American Football   4.972890e+09   \n",
       "4      L005         Serie A    Italy         Basketball   6.265740e+09   \n",
       "\n",
       "  Average Player Salary (USD)             Top Team  Total Teams  Founded Year  \\\n",
       "0                  12080000.0            Liverpool           16        1886.0   \n",
       "1                   6730000.0          Inter Milan           13        1977.0   \n",
       "2                  14360000.0  Chennai Super Kings           13        1979.0   \n",
       "3                  13720000.0      Atletico Madrid           22        1999.0   \n",
       "4                   7450000.0             Juventus           16        1963.0   \n",
       "\n",
       "   Viewership  \n",
       "0      485.90  \n",
       "1      135.01  \n",
       "2      157.49  \n",
       "3      245.71  \n",
       "4       52.83  "
      ]
     },
     "execution_count": 4,
     "metadata": {},
     "output_type": "execute_result"
    }
   ],
   "source": [
    "df.head()"
   ]
  },
  {
   "cell_type": "code",
   "execution_count": 5,
   "id": "c90969c4-dba6-4449-ba63-6a82b5a8d8c0",
   "metadata": {},
   "outputs": [
    {
     "data": {
      "text/plain": [
       "array(['12080000.0', '6730000.0', '14360000.0', '13720000.0', '7450000.0',\n",
       "       '1640000.0', '6670000.0', '3430000.0', 'Los Angeles Lakers',\n",
       "       '3080000.0', '13780000.0', '1670000.0', '10230000.0', '9440000.0',\n",
       "       '2480000.0', '14910000.0', '2150000.0', 'Miami Heat', '7580000.0',\n",
       "       '10800000.0', '5650000.0', '5000000.0', '2360000.0', '3710000.0',\n",
       "       '1520000.0', '9290000.0', '3330000.0', '3990000.0',\n",
       "       '8199999.999999999', '6240000.0', '13880000.0', '4240000.0',\n",
       "       '5590000.0', '8720000.0', '13160000.0', '14080000.0', '8350000.0',\n",
       "       '13330000.0', '7970000.0', '5760000.0', '6510000.0', '8170000.0',\n",
       "       '1420000.0', '11190000.0', '4340000.0', '4179999.9999999995',\n",
       "       '10140000.0', 'Green Bay Packers', '14890000.0', '5550000.0',\n",
       "       '14960000.0', '11760000.0', '8420000.0', '10990000.0', '1010000.0',\n",
       "       '11220000.0', '7650000.0', '2800000.0', '12470000.0', '11620000.0',\n",
       "       '1950000.0', '5350000.0', '3870000.0', '3720000.0', '2580000.0',\n",
       "       '12190000.0', '3880000.0', '6260000.0', '14450000.0', '1330000.0',\n",
       "       '10080000.0', '5480000.0', '10710000.0', '11420000.0',\n",
       "       '10970000.0', '7510000.0', '2950000.0', '2210000.0', '12580000.0',\n",
       "       '14060000.0', '13910000.0', '9260000.0', '2300000.0', '11700000.0',\n",
       "       '9150000.0', '1450000.0', '11450000.0', '14490000.0', '5520000.0',\n",
       "       '2170000.0', '9320000.0', '7960000.0', '3810000.0', '3300000.0',\n",
       "       '4970000.0', '12140000.0', '13120000.0', '14240000.0',\n",
       "       '11170000.0', '3130000.0', '10250000.0', '11250000.0',\n",
       "       '11300000.0', '10660000.0', '12530000.0', '9930000.0', '5910000.0',\n",
       "       '1910000.0', '5140000.0', '1390000.0', '4090000.0', '9510000.0',\n",
       "       '11000000.0', '9160000.0', '4430000.0', '6790000.0', '13920000.0',\n",
       "       '7140000.0', '7670000.0', '12220000.0', '12440000.0', '7400000.0',\n",
       "       '9370000.0', '6920000.0', '6660000.0', '3640000.0', '13500000.0',\n",
       "       '2750000.0', '2260000.0', '9300000.0', '11070000.0', '3650000.0',\n",
       "       '14940000.0', '1540000.0', '9430000.0', '13200000.0', '14600000.0',\n",
       "       '2330000.0', '13340000.0', '11550000.0', '10620000.0', '3690000.0',\n",
       "       '7250000.0', '7370000.0', '7280000.0', '1220000.0', '4120000.0',\n",
       "       '13770000.0', '13320000.0', '13080000.0', '11130000.0',\n",
       "       '14920000.0', '5440000.0', '5620000.0', '1810000.0', '1090000.0',\n",
       "       '14810000.0', '1490000.0', '5580000.0', '6630000.0', '9070000.0',\n",
       "       '3760000.0', '5900000.0', '8840000.0', '7790000.0', '13030000.0',\n",
       "       '13150000.0', '2440000.0', '2200000.0', '6200000.0', '11820000.0',\n",
       "       '9650000.0', '5250000.0', '2870000.0', '12330000.0', '4710000.0',\n",
       "       '13950000.0', '4830000.0', '14710000.0', '5730000.0', '10550000.0',\n",
       "       '7070000.0', '2009999.9999999998', '4410000.0', '11090000.0',\n",
       "       '7680000.0', '6940000.0', '8920000.0', '7430000.0', '6190000.0',\n",
       "       '6780000.0', '10530000.0', '6140000.0', '14460000.0', '7030000.0',\n",
       "       '7290000.0', '8010000.0', '12230000.0', '7780000.0', '6460000.0',\n",
       "       '12920000.0', '2230000.0', '13790000.0', '8330000.0', '8320000.0',\n",
       "       '2910000.0', '4370000.0', '13930000.0', '10260000.0', '14510000.0',\n",
       "       '12850000.0', '4820000.0', '2340000.0', '3920000.0', '1650000.0',\n",
       "       '6110000.0', '14380000.0', '5640000.0', '1060000.0', '7060000.0',\n",
       "       '8910000.0', '1160000.0', '5830000.0', '6650000.0', '2660000.0',\n",
       "       '12200000.0', '9050000.0', '13360000.0', '8690000.0', '9170000.0',\n",
       "       '6610000.0', '12490000.0', '2380000.0', '8090000.0', '14260000.0',\n",
       "       '6360000.0', '4630000.0', '3470000.0', '8760000.0', '10090000.0',\n",
       "       '14070000.0', '10160000.0', '4160000.0', '14220000.0',\n",
       "       '12100000.0', '3270000.0', '5410000.0', '14410000.0', '13750000.0',\n",
       "       '1480000.0', '13740000.0', '7750000.0', '2860000.0', '3840000.0',\n",
       "       '13380000.0', '4010000.0', '3590000.0', '12290000.0', '11440000.0',\n",
       "       '1860000.0', '14850000.0', '9010000.0', '5290000.0',\n",
       "       '4190000.0000000005', '12770000.0', '9100000.0', '8230000.0',\n",
       "       '12670000.0', '7480000.0', '3600000.0', '10040000.0', '9670000.0',\n",
       "       '5890000.0', '1150000.0', '5670000.0', '8640000.0', '6120000.0',\n",
       "       '13000000.0', '7940000.0', '9190000.0', '4490000.0', '6680000.0',\n",
       "       '2420000.0', '8710000.0', '8630000.0', '3390000.0', '13680000.0',\n",
       "       '4560000.0', '13610000.0', '1920000.0', '13170000.0', '13590000.0',\n",
       "       '3340000.0', '1570000.0', '5370000.0', '12510000.0', '12130000.0',\n",
       "       '7470000.0', '12860000.0', '3500000.0', '14160000.0', '10680000.0',\n",
       "       '11480000.0', '2820000.0', '7200000.0', '13800000.0', '2610000.0',\n",
       "       '13850000.0', '9740000.0', '3460000.0', '2160000.0',\n",
       "       '8279999.999999999', '2830000.0', '6060000.0', '6540000.0',\n",
       "       '8780000.0', '6420000.0', '4950000.0', '8970000.0', '4730000.0',\n",
       "       '8890000.0', '13070000.0', '2900000.0', '8610000.0', '8070000.0',\n",
       "       '6410000.0', '11580000.0', '4440000.0', '10010000.0', '2390000.0',\n",
       "       '4760000.0', '13470000.0', '11830000.0', '13600000.0',\n",
       "       '13060000.0', '6600000.0', '10110000.0', '10590000.0', '3240000.0',\n",
       "       '11010000.0', '12740000.0', '9700000.0', '9360000.0', '14050000.0',\n",
       "       '1720000.0', '8770000.0', '3310000.0', '11060000.0', '11030000.0',\n",
       "       '11840000.0', '3150000.0', '13100000.0', '13990000.0', '8930000.0',\n",
       "       '9710000.0', '12790000.0', '10740000.0', '12780000.0',\n",
       "       '10210000.0', '5660000.0', '4139999.9999999995', '11720000.0',\n",
       "       '14210000.0', '6980000.0', '3070000.0', '5400000.0', '5810000.0',\n",
       "       '5090000.0', '6800000.0', '12760000.0', '4690000.0', '3210000.0',\n",
       "       '12950000.0', '3030000.0', '11750000.0', '7530000.0', '9820000.0',\n",
       "       '3260000.0', '7460000.0', '9550000.0', '14320000.0', '13220000.0',\n",
       "       '5210000.0', '1530000.0', '8660000.0', '13670000.0', '5510000.0',\n",
       "       '11270000.0', '8189999.999999999', '2700000.0', '12170000.0',\n",
       "       '2100000.0', '9730000.0', '14730000.0', '14760000.0', '1840000.0',\n",
       "       '3730000.0', '1470000.0', '9690000.0', '4620000.0', '1130000.0',\n",
       "       '5420000.0', '5770000.0', '10810000.0', '6020000.0', '3770000.0',\n",
       "       '9450000.0', '10790000.0', '9590000.0', '11930000.0', '13300000.0',\n",
       "       '10320000.0', '14170000.0', '4770000.0', '6390000.0', '8510000.0',\n",
       "       '1780000.0', '9280000.0', '7860000.0', '7520000.0', '4740000.0',\n",
       "       '3580000.0', '14010000.0', '7770000.0', '6490000.0', '1370000.0',\n",
       "       '2710000.0', '14530000.0', '6900000.0', '8750000.0', '14130000.0',\n",
       "       '3290000.0', '1770000.0', '6320000.0', '5530000.0', '5080000.0',\n",
       "       '8740000.0', '2370000.0', '11430000.0', '14900000.0', '1360000.0',\n",
       "       '11570000.0', '13520000.0', '5300000.0', '13040000.0',\n",
       "       '12750000.0', '10770000.0', '2089999.9999999998', '2020000.0',\n",
       "       '5930000.0', '11500000.0', '9570000.0', '7810000.0', '13280000.0',\n",
       "       '4850000.0', '13010000.0', '14560000.0', '14020000.0',\n",
       "       '14090000.0', '9200000.0', '10580000.0', '13210000.0', '5050000.0',\n",
       "       '2470000.0', '10330000.0', '9250000.0', '10960000.0', '2430000.0',\n",
       "       '3540000.0', '7900000.0', '2590000.0', '10290000.0', '4990000.0',\n",
       "       '11160000.0', '8490000.0', '14670000.0', '13020000.0', '9060000.0',\n",
       "       '8450000.0', '9610000.0', '10720000.0', '4550000.0', '3440000.0',\n",
       "       '11900000.0', '3120000.0', '5280000.0', '8530000.0', '6950000.0',\n",
       "       '14580000.0', '3820000.0', '13130000.0', '1790000.0', '12610000.0',\n",
       "       '6090000.0', '3620000.0', '8250000.0', '5470000.0', '9950000.0',\n",
       "       '2240000.0', '13480000.0', '4300000.0', '10340000.0', '10730000.0',\n",
       "       '12120000.0', '2490000.0', '9500000.0', '14590000.0', '4750000.0',\n",
       "       '5710000.0', '1690000.0', '4880000.0', '14520000.0',\n",
       "       '8119999.999999999', '4660000.0', '1340000.0', '6690000.0',\n",
       "       '3200000.0', '12800000.0', '8039999.999999999', '1460000.0',\n",
       "       '1400000.0', '2670000.0', '8960000.0', '7490000.0', '13840000.0',\n",
       "       '13490000.0', '1280000.0', '9030000.0', '7350000.0', '5330000.0',\n",
       "       '4019999.9999999995', '2460000.0', '2890000.0', '13700000.0',\n",
       "       '1960000.0', '8390000.0', '11320000.0', '9240000.0', '2970000.0',\n",
       "       '4780000.0', '11020000.0', '2110000.0'], dtype=object)"
      ]
     },
     "execution_count": 5,
     "metadata": {},
     "output_type": "execute_result"
    }
   ],
   "source": [
    "df['Average Player Salary (USD)'].unique()"
   ]
  },
  {
   "cell_type": "code",
   "execution_count": 11,
   "id": "9bc612e9-39f3-4c56-b68c-cecf7fea57db",
   "metadata": {},
   "outputs": [],
   "source": [
    "df['Average Player Salary (USD)']=pd.to_numeric(df['Average Player Salary (USD)'], errors='coerce')"
   ]
  },
  {
   "cell_type": "code",
   "execution_count": 13,
   "id": "4a783a27-dd09-4bb7-8860-949ee8581c32",
   "metadata": {},
   "outputs": [
    {
     "name": "stdout",
     "output_type": "stream",
     "text": [
      "<class 'pandas.core.frame.DataFrame'>\n",
      "RangeIndex: 700 entries, 0 to 699\n",
      "Data columns (total 10 columns):\n",
      " #   Column                       Non-Null Count  Dtype  \n",
      "---  ------                       --------------  -----  \n",
      " 0   League ID                    700 non-null    object \n",
      " 1   League Name                  700 non-null    object \n",
      " 2   Country                      700 non-null    object \n",
      " 3   Sport                        700 non-null    object \n",
      " 4   Revenue (USD)                700 non-null    float64\n",
      " 5   Average Player Salary (USD)  697 non-null    float64\n",
      " 6   Top Team                     700 non-null    object \n",
      " 7   Total Teams                  700 non-null    int64  \n",
      " 8   Founded Year                 700 non-null    float64\n",
      " 9   Viewership                   696 non-null    float64\n",
      "dtypes: float64(4), int64(1), object(5)\n",
      "memory usage: 54.8+ KB\n"
     ]
    }
   ],
   "source": [
    "df.info()"
   ]
  },
  {
   "cell_type": "code",
   "execution_count": 15,
   "id": "67e534b9-25f7-44c8-8b15-e6e4492f1374",
   "metadata": {},
   "outputs": [],
   "source": [
    "df=df.drop(['League ID'], axis=1)"
   ]
  },
  {
   "cell_type": "code",
   "execution_count": 17,
   "id": "08840b8f-590c-4df0-bed9-5abe35a97d9c",
   "metadata": {},
   "outputs": [
    {
     "name": "stdout",
     "output_type": "stream",
     "text": [
      "<class 'pandas.core.frame.DataFrame'>\n",
      "RangeIndex: 700 entries, 0 to 699\n",
      "Data columns (total 9 columns):\n",
      " #   Column                       Non-Null Count  Dtype  \n",
      "---  ------                       --------------  -----  \n",
      " 0   League Name                  700 non-null    object \n",
      " 1   Country                      700 non-null    object \n",
      " 2   Sport                        700 non-null    object \n",
      " 3   Revenue (USD)                700 non-null    float64\n",
      " 4   Average Player Salary (USD)  697 non-null    float64\n",
      " 5   Top Team                     700 non-null    object \n",
      " 6   Total Teams                  700 non-null    int64  \n",
      " 7   Founded Year                 700 non-null    float64\n",
      " 8   Viewership                   696 non-null    float64\n",
      "dtypes: float64(4), int64(1), object(4)\n",
      "memory usage: 49.3+ KB\n"
     ]
    }
   ],
   "source": [
    "df.info()"
   ]
  },
  {
   "cell_type": "code",
   "execution_count": 19,
   "id": "0c576728-75d1-43fa-9c70-9df66e07744a",
   "metadata": {},
   "outputs": [
    {
     "data": {
      "text/plain": [
       "League Name                    0\n",
       "Country                        0\n",
       "Sport                          0\n",
       "Revenue (USD)                  0\n",
       "Average Player Salary (USD)    3\n",
       "Top Team                       0\n",
       "Total Teams                    0\n",
       "Founded Year                   0\n",
       "Viewership                     4\n",
       "dtype: int64"
      ]
     },
     "execution_count": 19,
     "metadata": {},
     "output_type": "execute_result"
    }
   ],
   "source": [
    "df.isnull().sum()"
   ]
  },
  {
   "cell_type": "markdown",
   "id": "9a725b98-1a52-4630-8917-4a99eb9cce87",
   "metadata": {},
   "source": [
    "# data cleaning using klib"
   ]
  },
  {
   "cell_type": "code",
   "execution_count": 22,
   "id": "094f44c9-3a47-45de-b736-375636a97681",
   "metadata": {},
   "outputs": [
    {
     "name": "stdout",
     "output_type": "stream",
     "text": [
      "Shape of cleaned data: (700, 9) - Remaining NAs: 7\n",
      "\n",
      "\n",
      "Dropped rows: 0\n",
      "     of which 0 duplicates. (Rows (first 150 shown): [])\n",
      "\n",
      "Dropped columns: 0\n",
      "     of which 0 single valued.     Columns: []\n",
      "Dropped missing values: 0\n",
      "Reduced memory by at least: 0.03 MB (-60.0%)\n",
      "\n"
     ]
    }
   ],
   "source": [
    "df = klib.data_cleaning(df)  \n",
    "df = klib.clean_column_names(df)"
   ]
  },
  {
   "cell_type": "code",
   "execution_count": 24,
   "id": "1b636104-407b-4e16-92cf-c6ff936d5818",
   "metadata": {},
   "outputs": [
    {
     "name": "stdout",
     "output_type": "stream",
     "text": [
      "<class 'pandas.core.frame.DataFrame'>\n",
      "RangeIndex: 700 entries, 0 to 699\n",
      "Data columns (total 9 columns):\n",
      " #   Column                     Non-Null Count  Dtype   \n",
      "---  ------                     --------------  -----   \n",
      " 0   league_name                700 non-null    category\n",
      " 1   country                    700 non-null    category\n",
      " 2   sport                      700 non-null    category\n",
      " 3   revenue_usd                700 non-null    float64 \n",
      " 4   average_player_salary_usd  697 non-null    float32 \n",
      " 5   top_team                   700 non-null    string  \n",
      " 6   total_teams                700 non-null    int16   \n",
      " 7   founded_year               700 non-null    float32 \n",
      " 8   viewership                 696 non-null    float32 \n",
      "dtypes: category(3), float32(3), float64(1), int16(1), string(1)\n",
      "memory usage: 23.6 KB\n"
     ]
    }
   ],
   "source": [
    "df.info()"
   ]
  },
  {
   "cell_type": "markdown",
   "id": "c2eeaeb2-d441-4ba5-98fa-329504e8ab2c",
   "metadata": {},
   "source": [
    "# filling out missing values "
   ]
  },
  {
   "cell_type": "code",
   "execution_count": 27,
   "id": "5918f7d9-3010-47a3-a4c5-938d80599523",
   "metadata": {},
   "outputs": [
    {
     "name": "stderr",
     "output_type": "stream",
     "text": [
      "C:\\Users\\Public\\Documents\\ESTsoft\\CreatorTemp\\ipykernel_16108\\3785596210.py:1: FutureWarning: A value is trying to be set on a copy of a DataFrame or Series through chained assignment using an inplace method.\n",
      "The behavior will change in pandas 3.0. This inplace method will never work because the intermediate object on which we are setting values always behaves as a copy.\n",
      "\n",
      "For example, when doing 'df[col].method(value, inplace=True)', try using 'df.method({col: value}, inplace=True)' or df[col] = df[col].method(value) instead, to perform the operation inplace on the original object.\n",
      "\n",
      "\n",
      "  df['viewership'].fillna(df['viewership'].mean(), inplace=True)\n"
     ]
    }
   ],
   "source": [
    "df['viewership'].fillna(df['viewership'].mean(), inplace=True)"
   ]
  },
  {
   "cell_type": "code",
   "execution_count": 29,
   "id": "a9f713cb-0a9b-4491-86ec-e09e14ef4a4b",
   "metadata": {},
   "outputs": [
    {
     "name": "stderr",
     "output_type": "stream",
     "text": [
      "C:\\Users\\Public\\Documents\\ESTsoft\\CreatorTemp\\ipykernel_16108\\2608802946.py:1: FutureWarning: A value is trying to be set on a copy of a DataFrame or Series through chained assignment using an inplace method.\n",
      "The behavior will change in pandas 3.0. This inplace method will never work because the intermediate object on which we are setting values always behaves as a copy.\n",
      "\n",
      "For example, when doing 'df[col].method(value, inplace=True)', try using 'df.method({col: value}, inplace=True)' or df[col] = df[col].method(value) instead, to perform the operation inplace on the original object.\n",
      "\n",
      "\n",
      "  df['average_player_salary_usd'].fillna(df['average_player_salary_usd'].mean(), inplace=True)\n"
     ]
    }
   ],
   "source": [
    "df['average_player_salary_usd'].fillna(df['average_player_salary_usd'].mean(), inplace=True)"
   ]
  },
  {
   "cell_type": "code",
   "execution_count": 31,
   "id": "27217896-8021-4f61-b174-1846740ee920",
   "metadata": {},
   "outputs": [
    {
     "name": "stdout",
     "output_type": "stream",
     "text": [
      "<class 'pandas.core.frame.DataFrame'>\n",
      "RangeIndex: 700 entries, 0 to 699\n",
      "Data columns (total 9 columns):\n",
      " #   Column                     Non-Null Count  Dtype   \n",
      "---  ------                     --------------  -----   \n",
      " 0   league_name                700 non-null    category\n",
      " 1   country                    700 non-null    category\n",
      " 2   sport                      700 non-null    category\n",
      " 3   revenue_usd                700 non-null    float64 \n",
      " 4   average_player_salary_usd  700 non-null    float32 \n",
      " 5   top_team                   700 non-null    string  \n",
      " 6   total_teams                700 non-null    int16   \n",
      " 7   founded_year               700 non-null    float32 \n",
      " 8   viewership                 700 non-null    float32 \n",
      "dtypes: category(3), float32(3), float64(1), int16(1), string(1)\n",
      "memory usage: 23.6 KB\n"
     ]
    }
   ],
   "source": [
    "df.info()"
   ]
  },
  {
   "cell_type": "markdown",
   "id": "aa563e04-852e-4dc3-bf1e-93ddcdc7d460",
   "metadata": {},
   "source": [
    "# let's find numerical columns"
   ]
  },
  {
   "cell_type": "code",
   "execution_count": 33,
   "id": "3d6890d8-c1c1-4440-8e6e-0d3d989189f1",
   "metadata": {},
   "outputs": [],
   "source": [
    "numerical_cols=df.select_dtypes(include=['int16','float32','float64']).columns"
   ]
  },
  {
   "cell_type": "code",
   "execution_count": 35,
   "id": "b56631d2-cc90-4bc5-abc2-42f7490a445f",
   "metadata": {},
   "outputs": [
    {
     "data": {
      "text/plain": [
       "Index(['revenue_usd', 'average_player_salary_usd', 'total_teams',\n",
       "       'founded_year', 'viewership'],\n",
       "      dtype='object')"
      ]
     },
     "execution_count": 35,
     "metadata": {},
     "output_type": "execute_result"
    }
   ],
   "source": [
    "numerical_cols"
   ]
  },
  {
   "cell_type": "markdown",
   "id": "8f4735fb-cac3-4a48-aaa6-31c2c1bba997",
   "metadata": {},
   "source": [
    "# calculating skewness for numerical columns"
   ]
  },
  {
   "cell_type": "code",
   "execution_count": 38,
   "id": "6bc8ad6a-3eaf-459a-84d4-0cf21fbe3522",
   "metadata": {},
   "outputs": [
    {
     "name": "stdout",
     "output_type": "stream",
     "text": [
      "Skewness of numerical features:\n",
      " total_teams                  13.119584\n",
      "average_player_salary_usd     0.048757\n",
      "revenue_usd                   0.031193\n",
      "viewership                    0.005817\n",
      "founded_year                -11.366519\n",
      "dtype: float64\n"
     ]
    }
   ],
   "source": [
    "skewness = df[numerical_cols].skew().sort_values(ascending=False)\n",
    "print(\"Skewness of numerical features:\\n\", skewness)"
   ]
  },
  {
   "cell_type": "markdown",
   "id": "88a9588c-3d78-4e13-a83d-1d7fb7947c81",
   "metadata": {},
   "source": [
    "# the standard formfula for skewness"
   ]
  },
  {
   "cell_type": "code",
   "execution_count": 41,
   "id": "1de7deb3-b318-4231-85a5-06407d33605d",
   "metadata": {},
   "outputs": [],
   "source": [
    "# If skewness > +0.5 → Right-skewed (log/square root transformation).\n",
    "# If skewness < -0.5 → Left-skewed (sometimes power transformation).\n",
    "# If skewness ≈ 0 → Kerak emas."
   ]
  },
  {
   "cell_type": "code",
   "execution_count": 43,
   "id": "1a895ff1-c14c-4b31-8f05-17e99f257b42",
   "metadata": {},
   "outputs": [
    {
     "data": {
      "image/png": "[encoded data removed]",
      "text/plain": [
       "<Figure size 2000x1000 with 5 Axes>"
      ]
     },
     "metadata": {},
     "output_type": "display_data"
    }
   ],
   "source": [
    "plt.figure(figsize=(20, 10))\n",
    "for i, col in enumerate(numerical_cols, 1):\n",
    "    plt.subplot(2, 4, i)\n",
    "    sns.histplot(df[col], kde=True, bins=30)\n",
    "    plt.title(f\"Histogram of {col}\")\n",
    "\n",
    "plt.tight_layout()\n",
    "plt.show()\n"
   ]
  },
  {
   "cell_type": "markdown",
   "id": "c53fbdb3-16ca-43da-b950-3878be1542c0",
   "metadata": {},
   "source": [
    "# Identify features that need transformations (threshold: ±0.5)"
   ]
  },
  {
   "cell_type": "code",
   "execution_count": 46,
   "id": "5f6877cf-fe8f-41ba-bfd4-c93b1da02a3f",
   "metadata": {},
   "outputs": [
    {
     "name": "stdout",
     "output_type": "stream",
     "text": [
      "Features that need transformation: ['total_teams', 'founded_year']\n"
     ]
    }
   ],
   "source": [
    "skewed_features = skewness[abs(skewness) > 0.5].index.tolist()\n",
    "print(\"Features that need transformation:\", skewed_features)\n"
   ]
  },
  {
   "cell_type": "markdown",
   "id": "ed6878c4-d426-40c2-a7a8-3be2c97c47c3",
   "metadata": {},
   "source": [
    "# let's apply log transformation on total_teams and power on founded_year"
   ]
  },
  {
   "cell_type": "code",
   "execution_count": 49,
   "id": "7066b6ed-f1e8-47bc-85f5-6fb5e6a542b3",
   "metadata": {},
   "outputs": [],
   "source": [
    "df[\"log_total_teams \"] = np.log1p(df[\"total_teams\"])"
   ]
  },
  {
   "cell_type": "code",
   "execution_count": 58,
   "id": "00a2c32a-0263-46c8-92ea-641e5f37f220",
   "metadata": {},
   "outputs": [],
   "source": [
    "df[\"power_founded_year\"] = np.power(df[\"founded_year\"], 2)"
   ]
  },
  {
   "cell_type": "code",
   "execution_count": 60,
   "id": "5516d6af-df60-4625-adf6-6386c4fc73b5",
   "metadata": {},
   "outputs": [
    {
     "name": "stdout",
     "output_type": "stream",
     "text": [
      "<class 'pandas.core.frame.DataFrame'>\n",
      "RangeIndex: 700 entries, 0 to 699\n",
      "Data columns (total 11 columns):\n",
      " #   Column                     Non-Null Count  Dtype   \n",
      "---  ------                     --------------  -----   \n",
      " 0   league_name                700 non-null    category\n",
      " 1   country                    700 non-null    category\n",
      " 2   sport                      700 non-null    category\n",
      " 3   revenue_usd                700 non-null    float64 \n",
      " 4   average_player_salary_usd  700 non-null    float32 \n",
      " 5   top_team                   700 non-null    string  \n",
      " 6   total_teams                700 non-null    int16   \n",
      " 7   founded_year               700 non-null    float32 \n",
      " 8   viewership                 700 non-null    float32 \n",
      " 9   log_total_teams            700 non-null    float32 \n",
      " 10  power_founded_year         700 non-null    float32 \n",
      "dtypes: category(3), float32(5), float64(1), int16(1), string(1)\n",
      "memory usage: 29.1 KB\n"
     ]
    }
   ],
   "source": [
    "df.info()"
   ]
  },
  {
   "cell_type": "code",
   "execution_count": 62,
   "id": "f5f9ef86-a16b-4c78-9ee9-105c156aef52",
   "metadata": {},
   "outputs": [
    {
     "data": {
      "text/html": [
       "<div>\n",
       "<style scoped>\n",
       "    .dataframe tbody tr th:only-of-type {\n",
       "        vertical-align: middle;\n",
       "    }\n",
       "\n",
       "    .dataframe tbody tr th {\n",
       "        vertical-align: top;\n",
       "    }\n",
       "\n",
       "    .dataframe thead th {\n",
       "        text-align: right;\n",
       "    }\n",
       "</style>\n",
       "<table border=\"1\" class=\"dataframe\">\n",
       "  <thead>\n",
       "    <tr style=\"text-align: right;\">\n",
       "      <th></th>\n",
       "      <th>league_name</th>\n",
       "      <th>country</th>\n",
       "      <th>sport</th>\n",
       "      <th>revenue_usd</th>\n",
       "      <th>average_player_salary_usd</th>\n",
       "      <th>top_team</th>\n",
       "      <th>total_teams</th>\n",
       "      <th>founded_year</th>\n",
       "      <th>viewership</th>\n",
       "      <th>log_total_teams</th>\n",
       "      <th>power_founded_year</th>\n",
       "    </tr>\n",
       "  </thead>\n",
       "  <tbody>\n",
       "    <tr>\n",
       "      <th>0</th>\n",
       "      <td>Premier League</td>\n",
       "      <td>England</td>\n",
       "      <td>Football</td>\n",
       "      <td>5.275330e+09</td>\n",
       "      <td>12080000.0</td>\n",
       "      <td>Liverpool</td>\n",
       "      <td>16</td>\n",
       "      <td>1886.0</td>\n",
       "      <td>485.899994</td>\n",
       "      <td>2.833213</td>\n",
       "      <td>3556996.0</td>\n",
       "    </tr>\n",
       "    <tr>\n",
       "      <th>1</th>\n",
       "      <td>Serie A</td>\n",
       "      <td>India</td>\n",
       "      <td>American Football</td>\n",
       "      <td>7.088640e+09</td>\n",
       "      <td>6730000.0</td>\n",
       "      <td>Inter Milan</td>\n",
       "      <td>13</td>\n",
       "      <td>1977.0</td>\n",
       "      <td>135.009995</td>\n",
       "      <td>2.639057</td>\n",
       "      <td>3908529.0</td>\n",
       "    </tr>\n",
       "    <tr>\n",
       "      <th>2</th>\n",
       "      <td>IPL</td>\n",
       "      <td>England</td>\n",
       "      <td>American Football</td>\n",
       "      <td>7.930520e+09</td>\n",
       "      <td>14360000.0</td>\n",
       "      <td>Chennai Super Kings</td>\n",
       "      <td>13</td>\n",
       "      <td>1979.0</td>\n",
       "      <td>157.490005</td>\n",
       "      <td>2.639057</td>\n",
       "      <td>3916441.0</td>\n",
       "    </tr>\n",
       "    <tr>\n",
       "      <th>3</th>\n",
       "      <td>La Liga</td>\n",
       "      <td>Spain</td>\n",
       "      <td>American Football</td>\n",
       "      <td>4.972890e+09</td>\n",
       "      <td>13720000.0</td>\n",
       "      <td>Atletico Madrid</td>\n",
       "      <td>22</td>\n",
       "      <td>1999.0</td>\n",
       "      <td>245.710007</td>\n",
       "      <td>3.135494</td>\n",
       "      <td>3996001.0</td>\n",
       "    </tr>\n",
       "    <tr>\n",
       "      <th>4</th>\n",
       "      <td>Serie A</td>\n",
       "      <td>Italy</td>\n",
       "      <td>Basketball</td>\n",
       "      <td>6.265740e+09</td>\n",
       "      <td>7450000.0</td>\n",
       "      <td>Juventus</td>\n",
       "      <td>16</td>\n",
       "      <td>1963.0</td>\n",
       "      <td>52.830002</td>\n",
       "      <td>2.833213</td>\n",
       "      <td>3853369.0</td>\n",
       "    </tr>\n",
       "  </tbody>\n",
       "</table>\n",
       "</div>"
      ],
      "text/plain": [
       "      league_name  country              sport   revenue_usd  \\\n",
       "0  Premier League  England           Football  5.275330e+09   \n",
       "1         Serie A    India  American Football  7.088640e+09   \n",
       "2             IPL  England  American Football  7.930520e+09   \n",
       "3         La Liga    Spain  American Football  4.972890e+09   \n",
       "4         Serie A    Italy         Basketball  6.265740e+09   \n",
       "\n",
       "   average_player_salary_usd             top_team  total_teams  founded_year  \\\n",
       "0                 12080000.0            Liverpool           16        1886.0   \n",
       "1                  6730000.0          Inter Milan           13        1977.0   \n",
       "2                 14360000.0  Chennai Super Kings           13        1979.0   \n",
       "3                 13720000.0      Atletico Madrid           22        1999.0   \n",
       "4                  7450000.0             Juventus           16        1963.0   \n",
       "\n",
       "   viewership  log_total_teams   power_founded_year  \n",
       "0  485.899994          2.833213           3556996.0  \n",
       "1  135.009995          2.639057           3908529.0  \n",
       "2  157.490005          2.639057           3916441.0  \n",
       "3  245.710007          3.135494           3996001.0  \n",
       "4   52.830002          2.833213           3853369.0  "
      ]
     },
     "execution_count": 62,
     "metadata": {},
     "output_type": "execute_result"
    }
   ],
   "source": [
    "df.head()"
   ]
  },
  {
   "cell_type": "markdown",
   "id": "f72f90a3-3eb9-497b-a335-013ed0a61f14",
   "metadata": {},
   "source": [
    "# Discretization"
   ]
  },
  {
   "cell_type": "code",
   "execution_count": 68,
   "id": "81461ccc-6c52-45a5-8ab9-01df40953bb8",
   "metadata": {},
   "outputs": [],
   "source": [
    "continuous_features = ['revenue_usd', 'average_player_salary_usd']"
   ]
  },
  {
   "cell_type": "markdown",
   "id": "8cc4ab80-f7b8-47c1-b17e-b6811a08e9f4",
   "metadata": {},
   "source": [
    "# Equal Width Binning "
   ]
  },
  {
   "cell_type": "code",
   "execution_count": 71,
   "id": "2448a0fa-fd04-4dd6-94da-4d9aedd977d7",
   "metadata": {},
   "outputs": [],
   "source": [
    "equal_width = KBinsDiscretizer(n_bins=5, encode=\"ordinal\", strategy=\"uniform\")"
   ]
  },
  {
   "cell_type": "markdown",
   "id": "6a5f0ab6-97ef-43f4-b9b5-a1d143bda932",
   "metadata": {},
   "source": [
    "# Equal Frequency Binning"
   ]
  },
  {
   "cell_type": "code",
   "execution_count": 74,
   "id": "6e37025d-2164-4af0-b006-2a9100bd933e",
   "metadata": {},
   "outputs": [],
   "source": [
    "equal_freq = KBinsDiscretizer(n_bins=5, encode=\"ordinal\", strategy=\"quantile\") "
   ]
  },
  {
   "cell_type": "code",
   "execution_count": 76,
   "id": "3914eed2-c19e-4f94-8524-fb260ea1fc66",
   "metadata": {},
   "outputs": [],
   "source": [
    "for feature in continuous_features:\n",
    "    # Apply Equal Width Binning\n",
    "    df[f\"{feature}_equal_width\"] = equal_width.fit_transform(df[[feature]])\n",
    "    # Apply Equal Frequency Binning\n",
    "    df[f\"{feature}_equal_freq\"] = equal_freq.fit_transform(df[[feature]])"
   ]
  },
  {
   "cell_type": "code",
   "execution_count": 78,
   "id": "bd9a77d4-84dc-438b-bf96-c15576242070",
   "metadata": {},
   "outputs": [
    {
     "name": "stdout",
     "output_type": "stream",
     "text": [
      "<class 'pandas.core.frame.DataFrame'>\n",
      "RangeIndex: 700 entries, 0 to 699\n",
      "Data columns (total 15 columns):\n",
      " #   Column                                 Non-Null Count  Dtype   \n",
      "---  ------                                 --------------  -----   \n",
      " 0   league_name                            700 non-null    category\n",
      " 1   country                                700 non-null    category\n",
      " 2   sport                                  700 non-null    category\n",
      " 3   revenue_usd                            700 non-null    float64 \n",
      " 4   average_player_salary_usd              700 non-null    float32 \n",
      " 5   top_team                               700 non-null    string  \n",
      " 6   total_teams                            700 non-null    int16   \n",
      " 7   founded_year                           700 non-null    float32 \n",
      " 8   viewership                             700 non-null    float32 \n",
      " 9   log_total_teams                        700 non-null    float32 \n",
      " 10  power_founded_year                     700 non-null    float32 \n",
      " 11  revenue_usd_equal_width                700 non-null    float64 \n",
      " 12  revenue_usd_equal_freq                 700 non-null    float64 \n",
      " 13  average_player_salary_usd_equal_width  700 non-null    float32 \n",
      " 14  average_player_salary_usd_equal_freq   700 non-null    float32 \n",
      "dtypes: category(3), float32(7), float64(3), int16(1), string(1)\n",
      "memory usage: 45.5 KB\n"
     ]
    }
   ],
   "source": [
    "df.info()"
   ]
  },
  {
   "cell_type": "markdown",
   "id": "c058191c-67fc-4976-92cc-edba91127920",
   "metadata": {},
   "source": [
    "# scaling qilishdan oldin cardinalitysini topamiz"
   ]
  },
  {
   "cell_type": "code",
   "execution_count": 85,
   "id": "60f4b83c-c922-460b-8174-80ba8ed92e9e",
   "metadata": {},
   "outputs": [],
   "source": [
    "cat_col=df.select_dtypes(include=['string','category']).columns"
   ]
  },
  {
   "cell_type": "code",
   "execution_count": 87,
   "id": "f352face-aed0-47c9-88b8-1dd479bed267",
   "metadata": {},
   "outputs": [],
   "source": [
    "cardinality = df[cat_col].nunique()"
   ]
  },
  {
   "cell_type": "code",
   "execution_count": 89,
   "id": "9463ef47-1fed-4de3-975e-e90a023f1b68",
   "metadata": {},
   "outputs": [
    {
     "data": {
      "text/plain": [
       "league_name     8\n",
       "country         7\n",
       "sport           4\n",
       "top_team       28\n",
       "dtype: int64"
      ]
     },
     "execution_count": 89,
     "metadata": {},
     "output_type": "execute_result"
    }
   ],
   "source": [
    "cardinality"
   ]
  },
  {
   "cell_type": "code",
   "execution_count": 91,
   "id": "515e0c00-ef44-4b77-bbe2-69126bf941d6",
   "metadata": {},
   "outputs": [],
   "source": [
    "encoder=LabelEncoder()\n",
    "for col in cat_col:\n",
    "    if cardinality[col]>10:\n",
    "        df[col]=encoder.fit_transform(df[col])\n",
    "    else:\n",
    "        df=pd.get_dummies(df,columns=[col],drop_first=True)"
   ]
  },
  {
   "cell_type": "code",
   "execution_count": 93,
   "id": "2691506c-cdb5-4394-9a82-3f8b11347326",
   "metadata": {},
   "outputs": [
    {
     "name": "stdout",
     "output_type": "stream",
     "text": [
      "<class 'pandas.core.frame.DataFrame'>\n",
      "RangeIndex: 700 entries, 0 to 699\n",
      "Data columns (total 28 columns):\n",
      " #   Column                                 Non-Null Count  Dtype  \n",
      "---  ------                                 --------------  -----  \n",
      " 0   revenue_usd                            700 non-null    float64\n",
      " 1   average_player_salary_usd              700 non-null    float32\n",
      " 2   top_team                               700 non-null    int32  \n",
      " 3   total_teams                            700 non-null    int16  \n",
      " 4   founded_year                           700 non-null    float32\n",
      " 5   viewership                             700 non-null    float32\n",
      " 6   log_total_teams                        700 non-null    float32\n",
      " 7   power_founded_year                     700 non-null    float32\n",
      " 8   revenue_usd_equal_width                700 non-null    float64\n",
      " 9   revenue_usd_equal_freq                 700 non-null    float64\n",
      " 10  average_player_salary_usd_equal_width  700 non-null    float32\n",
      " 11  average_player_salary_usd_equal_freq   700 non-null    float32\n",
      " 12  league_name_IPL                        700 non-null    bool   \n",
      " 13  league_name_La Liga                    700 non-null    bool   \n",
      " 14  league_name_Ligue 1                    700 non-null    bool   \n",
      " 15  league_name_NBA                        700 non-null    bool   \n",
      " 16  league_name_NFL                        700 non-null    bool   \n",
      " 17  league_name_Premier League             700 non-null    bool   \n",
      " 18  league_name_Serie A                    700 non-null    bool   \n",
      " 19  country_France                         700 non-null    bool   \n",
      " 20  country_Germany                        700 non-null    bool   \n",
      " 21  country_India                          700 non-null    bool   \n",
      " 22  country_Italy                          700 non-null    bool   \n",
      " 23  country_Spain                          700 non-null    bool   \n",
      " 24  country_USA                            700 non-null    bool   \n",
      " 25  sport_Basketball                       700 non-null    bool   \n",
      " 26  sport_Cricket                          700 non-null    bool   \n",
      " 27  sport_Football                         700 non-null    bool   \n",
      "dtypes: bool(16), float32(7), float64(3), int16(1), int32(1)\n",
      "memory usage: 50.7 KB\n"
     ]
    }
   ],
   "source": [
    "df.info()"
   ]
  },
  {
   "cell_type": "code",
   "execution_count": 95,
   "id": "41b282fe-4a46-479a-b4eb-f58542e0594e",
   "metadata": {},
   "outputs": [
    {
     "name": "stdout",
     "output_type": "stream",
     "text": [
      "<class 'pandas.core.frame.DataFrame'>\n",
      "RangeIndex: 700 entries, 0 to 699\n",
      "Data columns (total 28 columns):\n",
      " #   Column                                 Non-Null Count  Dtype  \n",
      "---  ------                                 --------------  -----  \n",
      " 0   revenue_usd                            700 non-null    float64\n",
      " 1   average_player_salary_usd              700 non-null    float32\n",
      " 2   top_team                               700 non-null    int32  \n",
      " 3   total_teams                            700 non-null    int16  \n",
      " 4   founded_year                           700 non-null    float32\n",
      " 5   viewership                             700 non-null    float32\n",
      " 6   log_total_teams                        700 non-null    float32\n",
      " 7   power_founded_year                     700 non-null    float32\n",
      " 8   revenue_usd_equal_width                700 non-null    float64\n",
      " 9   revenue_usd_equal_freq                 700 non-null    float64\n",
      " 10  average_player_salary_usd_equal_width  700 non-null    float32\n",
      " 11  average_player_salary_usd_equal_freq   700 non-null    float32\n",
      " 12  league_name_IPL                        700 non-null    int32  \n",
      " 13  league_name_La Liga                    700 non-null    int32  \n",
      " 14  league_name_Ligue 1                    700 non-null    int32  \n",
      " 15  league_name_NBA                        700 non-null    int32  \n",
      " 16  league_name_NFL                        700 non-null    int32  \n",
      " 17  league_name_Premier League             700 non-null    int32  \n",
      " 18  league_name_Serie A                    700 non-null    int32  \n",
      " 19  country_France                         700 non-null    int32  \n",
      " 20  country_Germany                        700 non-null    int32  \n",
      " 21  country_India                          700 non-null    int32  \n",
      " 22  country_Italy                          700 non-null    int32  \n",
      " 23  country_Spain                          700 non-null    int32  \n",
      " 24  country_USA                            700 non-null    int32  \n",
      " 25  sport_Basketball                       700 non-null    int32  \n",
      " 26  sport_Cricket                          700 non-null    int32  \n",
      " 27  sport_Football                         700 non-null    int32  \n",
      "dtypes: float32(7), float64(3), int16(1), int32(17)\n",
      "memory usage: 83.5 KB\n"
     ]
    }
   ],
   "source": [
    "one_hot_cols = df.select_dtypes(include=bool).columns\n",
    "df[one_hot_cols] = df[one_hot_cols].astype(int)\n",
    "df.info()"
   ]
  },
  {
   "cell_type": "code",
   "execution_count": 97,
   "id": "b36a0125-20dc-43c9-8e96-ab4f04bb12fb",
   "metadata": {},
   "outputs": [
    {
     "name": "stdout",
     "output_type": "stream",
     "text": [
      "Shape of cleaned data: (700, 28) - Remaining NAs: 0\n",
      "\n",
      "\n",
      "Dropped rows: 0\n",
      "     of which 0 duplicates. (Rows (first 150 shown): [])\n",
      "\n",
      "Dropped columns: 0\n",
      "     of which 0 single valued.     Columns: []\n",
      "Dropped missing values: 0\n",
      "Reduced memory by at least: 0.0 MB (-0.0%)\n",
      "\n"
     ]
    }
   ],
   "source": [
    "\n",
    "df = klib.data_cleaning(df)\n",
    "df = klib.clean_column_names(df)"
   ]
  },
  {
   "cell_type": "code",
   "execution_count": 99,
   "id": "da5726fe-33fc-483b-85d5-dcb3c2cd29ad",
   "metadata": {},
   "outputs": [
    {
     "data": {
      "text/plain": [
       "<bound method IndexOpsMixin.tolist of Index(['revenue_usd', 'average_player_salary_usd', 'top_team', 'total_teams',\n",
       "       'founded_year', 'viewership', 'log_total_teams', 'power_founded_year',\n",
       "       'revenue_usd_equal_width', 'revenue_usd_equal_freq',\n",
       "       'average_player_salary_usd_equal_width',\n",
       "       'average_player_salary_usd_equal_freq', 'league_name_ipl',\n",
       "       'league_name_la_liga', 'league_name_ligue_1', 'league_name_nba',\n",
       "       'league_name_nfl', 'league_name_premier_league', 'league_name_serie_a',\n",
       "       'country_france', 'country_germany', 'country_india', 'country_italy',\n",
       "       'country_spain', 'country_usa', 'sport_basketball', 'sport_cricket',\n",
       "       'sport_football'],\n",
       "      dtype='object')>"
      ]
     },
     "execution_count": 99,
     "metadata": {},
     "output_type": "execute_result"
    }
   ],
   "source": [
    "df.columns.to_list"
   ]
  },
  {
   "cell_type": "code",
   "execution_count": 111,
   "id": "d3b8ed18-6819-4d67-bda0-4b540f28547c",
   "metadata": {},
   "outputs": [],
   "source": [
    "x=['revenue_usd', 'average_player_salary_usd', 'top_team', 'total_teams',\n",
    "       'founded_year', 'log_total_teams', 'power_founded_year',\n",
    "       'revenue_usd_equal_width', 'revenue_usd_equal_freq',\n",
    "       'average_player_salary_usd_equal_width',\n",
    "       'average_player_salary_usd_equal_freq', 'league_name_ipl',\n",
    "       'league_name_la_liga', 'league_name_ligue_1', 'league_name_nba',\n",
    "       'league_name_nfl', 'league_name_premier_league', 'league_name_serie_a',\n",
    "       'country_france', 'country_germany', 'country_india', 'country_italy',\n",
    "       'country_spain', 'country_usa', 'sport_basketball', 'sport_cricket',\n",
    "       'sport_football']"
   ]
  },
  {
   "cell_type": "code",
   "execution_count": 113,
   "id": "d5ed4c47-b213-4255-912f-7b2b05413a79",
   "metadata": {},
   "outputs": [],
   "source": [
    "y=df['viewership']"
   ]
  },
  {
   "cell_type": "code",
   "execution_count": 115,
   "id": "ff232a6a-ff38-4364-b678-611f5fe428b1",
   "metadata": {},
   "outputs": [],
   "source": [
    "mi_scores = mutual_info_regression(df[x],y)"
   ]
  },
  {
   "cell_type": "code",
   "execution_count": 117,
   "id": "e4f40fd3-a5d9-4257-87f6-9839c10a3f3e",
   "metadata": {},
   "outputs": [],
   "source": [
    "\n",
    "mi_df = pd.DataFrame({'Feature': x, 'MI_Score': mi_scores})\n",
    "\n",
    "\n",
    "mi_df = mi_df.sort_values(by='MI_Score', ascending=False)"
   ]
  },
  {
   "cell_type": "code",
   "execution_count": 119,
   "id": "a2ad71ab-050e-4848-a84b-44e5d24c97ae",
   "metadata": {},
   "outputs": [
    {
     "data": {
      "text/html": [
       "<div>\n",
       "<style scoped>\n",
       "    .dataframe tbody tr th:only-of-type {\n",
       "        vertical-align: middle;\n",
       "    }\n",
       "\n",
       "    .dataframe tbody tr th {\n",
       "        vertical-align: top;\n",
       "    }\n",
       "\n",
       "    .dataframe thead th {\n",
       "        text-align: right;\n",
       "    }\n",
       "</style>\n",
       "<table border=\"1\" class=\"dataframe\">\n",
       "  <thead>\n",
       "    <tr style=\"text-align: right;\">\n",
       "      <th></th>\n",
       "      <th>Feature</th>\n",
       "      <th>MI_Score</th>\n",
       "    </tr>\n",
       "  </thead>\n",
       "  <tbody>\n",
       "    <tr>\n",
       "      <th>1</th>\n",
       "      <td>average_player_salary_usd</td>\n",
       "      <td>0.061910</td>\n",
       "    </tr>\n",
       "    <tr>\n",
       "      <th>9</th>\n",
       "      <td>average_player_salary_usd_equal_width</td>\n",
       "      <td>0.061063</td>\n",
       "    </tr>\n",
       "    <tr>\n",
       "      <th>10</th>\n",
       "      <td>average_player_salary_usd_equal_freq</td>\n",
       "      <td>0.040535</td>\n",
       "    </tr>\n",
       "    <tr>\n",
       "      <th>4</th>\n",
       "      <td>founded_year</td>\n",
       "      <td>0.038255</td>\n",
       "    </tr>\n",
       "    <tr>\n",
       "      <th>0</th>\n",
       "      <td>revenue_usd</td>\n",
       "      <td>0.035550</td>\n",
       "    </tr>\n",
       "    <tr>\n",
       "      <th>14</th>\n",
       "      <td>league_name_nba</td>\n",
       "      <td>0.030581</td>\n",
       "    </tr>\n",
       "    <tr>\n",
       "      <th>6</th>\n",
       "      <td>power_founded_year</td>\n",
       "      <td>0.021719</td>\n",
       "    </tr>\n",
       "    <tr>\n",
       "      <th>26</th>\n",
       "      <td>sport_football</td>\n",
       "      <td>0.019634</td>\n",
       "    </tr>\n",
       "    <tr>\n",
       "      <th>22</th>\n",
       "      <td>country_spain</td>\n",
       "      <td>0.018279</td>\n",
       "    </tr>\n",
       "    <tr>\n",
       "      <th>12</th>\n",
       "      <td>league_name_la_liga</td>\n",
       "      <td>0.015166</td>\n",
       "    </tr>\n",
       "    <tr>\n",
       "      <th>24</th>\n",
       "      <td>sport_basketball</td>\n",
       "      <td>0.014344</td>\n",
       "    </tr>\n",
       "    <tr>\n",
       "      <th>25</th>\n",
       "      <td>sport_cricket</td>\n",
       "      <td>0.013559</td>\n",
       "    </tr>\n",
       "    <tr>\n",
       "      <th>19</th>\n",
       "      <td>country_germany</td>\n",
       "      <td>0.011330</td>\n",
       "    </tr>\n",
       "    <tr>\n",
       "      <th>16</th>\n",
       "      <td>league_name_premier_league</td>\n",
       "      <td>0.008533</td>\n",
       "    </tr>\n",
       "    <tr>\n",
       "      <th>11</th>\n",
       "      <td>league_name_ipl</td>\n",
       "      <td>0.006398</td>\n",
       "    </tr>\n",
       "    <tr>\n",
       "      <th>20</th>\n",
       "      <td>country_india</td>\n",
       "      <td>0.001791</td>\n",
       "    </tr>\n",
       "    <tr>\n",
       "      <th>8</th>\n",
       "      <td>revenue_usd_equal_freq</td>\n",
       "      <td>0.000000</td>\n",
       "    </tr>\n",
       "    <tr>\n",
       "      <th>23</th>\n",
       "      <td>country_usa</td>\n",
       "      <td>0.000000</td>\n",
       "    </tr>\n",
       "    <tr>\n",
       "      <th>21</th>\n",
       "      <td>country_italy</td>\n",
       "      <td>0.000000</td>\n",
       "    </tr>\n",
       "    <tr>\n",
       "      <th>17</th>\n",
       "      <td>league_name_serie_a</td>\n",
       "      <td>0.000000</td>\n",
       "    </tr>\n",
       "    <tr>\n",
       "      <th>18</th>\n",
       "      <td>country_france</td>\n",
       "      <td>0.000000</td>\n",
       "    </tr>\n",
       "    <tr>\n",
       "      <th>7</th>\n",
       "      <td>revenue_usd_equal_width</td>\n",
       "      <td>0.000000</td>\n",
       "    </tr>\n",
       "    <tr>\n",
       "      <th>15</th>\n",
       "      <td>league_name_nfl</td>\n",
       "      <td>0.000000</td>\n",
       "    </tr>\n",
       "    <tr>\n",
       "      <th>2</th>\n",
       "      <td>top_team</td>\n",
       "      <td>0.000000</td>\n",
       "    </tr>\n",
       "    <tr>\n",
       "      <th>3</th>\n",
       "      <td>total_teams</td>\n",
       "      <td>0.000000</td>\n",
       "    </tr>\n",
       "    <tr>\n",
       "      <th>5</th>\n",
       "      <td>log_total_teams</td>\n",
       "      <td>0.000000</td>\n",
       "    </tr>\n",
       "    <tr>\n",
       "      <th>13</th>\n",
       "      <td>league_name_ligue_1</td>\n",
       "      <td>0.000000</td>\n",
       "    </tr>\n",
       "  </tbody>\n",
       "</table>\n",
       "</div>"
      ],
      "text/plain": [
       "                                  Feature  MI_Score\n",
       "1               average_player_salary_usd  0.061910\n",
       "9   average_player_salary_usd_equal_width  0.061063\n",
       "10   average_player_salary_usd_equal_freq  0.040535\n",
       "4                            founded_year  0.038255\n",
       "0                             revenue_usd  0.035550\n",
       "14                        league_name_nba  0.030581\n",
       "6                      power_founded_year  0.021719\n",
       "26                         sport_football  0.019634\n",
       "22                          country_spain  0.018279\n",
       "12                    league_name_la_liga  0.015166\n",
       "24                       sport_basketball  0.014344\n",
       "25                          sport_cricket  0.013559\n",
       "19                        country_germany  0.011330\n",
       "16             league_name_premier_league  0.008533\n",
       "11                        league_name_ipl  0.006398\n",
       "20                          country_india  0.001791\n",
       "8                  revenue_usd_equal_freq  0.000000\n",
       "23                            country_usa  0.000000\n",
       "21                          country_italy  0.000000\n",
       "17                    league_name_serie_a  0.000000\n",
       "18                         country_france  0.000000\n",
       "7                 revenue_usd_equal_width  0.000000\n",
       "15                        league_name_nfl  0.000000\n",
       "2                                top_team  0.000000\n",
       "3                             total_teams  0.000000\n",
       "5                         log_total_teams  0.000000\n",
       "13                    league_name_ligue_1  0.000000"
      ]
     },
     "execution_count": 119,
     "metadata": {},
     "output_type": "execute_result"
    }
   ],
   "source": [
    "mi_df"
   ]
  },
  {
   "cell_type": "code",
   "execution_count": 121,
   "id": "ddfa5e1e-a725-4737-8cd3-1d23630013e9",
   "metadata": {},
   "outputs": [
    {
     "data": {
      "text/html": [
       "<style>#sk-container-id-1 {\n",
       "  /* Definition of color scheme common for light and dark mode */\n",
       "  --sklearn-color-text: black;\n",
       "  --sklearn-color-line: gray;\n",
       "  /* Definition of color scheme for unfitted estimators */\n",
       "  --sklearn-color-unfitted-level-0: #fff5e6;\n",
       "  --sklearn-color-unfitted-level-1: #f6e4d2;\n",
       "  --sklearn-color-unfitted-level-2: #ffe0b3;\n",
       "  --sklearn-color-unfitted-level-3: chocolate;\n",
       "  /* Definition of color scheme for fitted estimators */\n",
       "  --sklearn-color-fitted-level-0: #f0f8ff;\n",
       "  --sklearn-color-fitted-level-1: #d4ebff;\n",
       "  --sklearn-color-fitted-level-2: #b3dbfd;\n",
       "  --sklearn-color-fitted-level-3: cornflowerblue;\n",
       "\n",
       "  /* Specific color for light theme */\n",
       "  --sklearn-color-text-on-default-background: var(--sg-text-color, var(--theme-code-foreground, var(--jp-content-font-color1, black)));\n",
       "  --sklearn-color-background: var(--sg-background-color, var(--theme-background, var(--jp-layout-color0, white)));\n",
       "  --sklearn-color-border-box: var(--sg-text-color, var(--theme-code-foreground, var(--jp-content-font-color1, black)));\n",
       "  --sklearn-color-icon: #696969;\n",
       "\n",
       "  @media (prefers-color-scheme: dark) {\n",
       "    /* Redefinition of color scheme for dark theme */\n",
       "    --sklearn-color-text-on-default-background: var(--sg-text-color, var(--theme-code-foreground, var(--jp-content-font-color1, white)));\n",
       "    --sklearn-color-background: var(--sg-background-color, var(--theme-background, var(--jp-layout-color0, #111)));\n",
       "    --sklearn-color-border-box: var(--sg-text-color, var(--theme-code-foreground, var(--jp-content-font-color1, white)));\n",
       "    --sklearn-color-icon: #878787;\n",
       "  }\n",
       "}\n",
       "\n",
       "#sk-container-id-1 {\n",
       "  color: var(--sklearn-color-text);\n",
       "}\n",
       "\n",
       "#sk-container-id-1 pre {\n",
       "  padding: 0;\n",
       "}\n",
       "\n",
       "#sk-container-id-1 input.sk-hidden--visually {\n",
       "  border: 0;\n",
       "  clip: rect(1px 1px 1px 1px);\n",
       "  clip: rect(1px, 1px, 1px, 1px);\n",
       "  height: 1px;\n",
       "  margin: -1px;\n",
       "  overflow: hidden;\n",
       "  padding: 0;\n",
       "  position: absolute;\n",
       "  width: 1px;\n",
       "}\n",
       "\n",
       "#sk-container-id-1 div.sk-dashed-wrapped {\n",
       "  border: 1px dashed var(--sklearn-color-line);\n",
       "  margin: 0 0.4em 0.5em 0.4em;\n",
       "  box-sizing: border-box;\n",
       "  padding-bottom: 0.4em;\n",
       "  background-color: var(--sklearn-color-background);\n",
       "}\n",
       "\n",
       "#sk-container-id-1 div.sk-container {\n",
       "  /* jupyter's `normalize.less` sets `[hidden] { display: none; }`\n",
       "     but bootstrap.min.css set `[hidden] { display: none !important; }`\n",
       "     so we also need the `!important` here to be able to override the\n",
       "     default hidden behavior on the sphinx rendered scikit-learn.org.\n",
       "     See: https://github.com/scikit-learn/scikit-learn/issues/21755 */\n",
       "  display: inline-block !important;\n",
       "  position: relative;\n",
       "}\n",
       "\n",
       "#sk-container-id-1 div.sk-text-repr-fallback {\n",
       "  display: none;\n",
       "}\n",
       "\n",
       "div.sk-parallel-item,\n",
       "div.sk-serial,\n",
       "div.sk-item {\n",
       "  /* draw centered vertical line to link estimators */\n",
       "  background-image: linear-gradient(var(--sklearn-color-text-on-default-background), var(--sklearn-color-text-on-default-background));\n",
       "  background-size: 2px 100%;\n",
       "  background-repeat: no-repeat;\n",
       "  background-position: center center;\n",
       "}\n",
       "\n",
       "/* Parallel-specific style estimator block */\n",
       "\n",
       "#sk-container-id-1 div.sk-parallel-item::after {\n",
       "  content: \"\";\n",
       "  width: 100%;\n",
       "  border-bottom: 2px solid var(--sklearn-color-text-on-default-background);\n",
       "  flex-grow: 1;\n",
       "}\n",
       "\n",
       "#sk-container-id-1 div.sk-parallel {\n",
       "  display: flex;\n",
       "  align-items: stretch;\n",
       "  justify-content: center;\n",
       "  background-color: var(--sklearn-color-background);\n",
       "  position: relative;\n",
       "}\n",
       "\n",
       "#sk-container-id-1 div.sk-parallel-item {\n",
       "  display: flex;\n",
       "  flex-direction: column;\n",
       "}\n",
       "\n",
       "#sk-container-id-1 div.sk-parallel-item:first-child::after {\n",
       "  align-self: flex-end;\n",
       "  width: 50%;\n",
       "}\n",
       "\n",
       "#sk-container-id-1 div.sk-parallel-item:last-child::after {\n",
       "  align-self: flex-start;\n",
       "  width: 50%;\n",
       "}\n",
       "\n",
       "#sk-container-id-1 div.sk-parallel-item:only-child::after {\n",
       "  width: 0;\n",
       "}\n",
       "\n",
       "/* Serial-specific style estimator block */\n",
       "\n",
       "#sk-container-id-1 div.sk-serial {\n",
       "  display: flex;\n",
       "  flex-direction: column;\n",
       "  align-items: center;\n",
       "  background-color: var(--sklearn-color-background);\n",
       "  padding-right: 1em;\n",
       "  padding-left: 1em;\n",
       "}\n",
       "\n",
       "\n",
       "/* Toggleable style: style used for estimator/Pipeline/ColumnTransformer box that is\n",
       "clickable and can be expanded/collapsed.\n",
       "- Pipeline and ColumnTransformer use this feature and define the default style\n",
       "- Estimators will overwrite some part of the style using the `sk-estimator` class\n",
       "*/\n",
       "\n",
       "/* Pipeline and ColumnTransformer style (default) */\n",
       "\n",
       "#sk-container-id-1 div.sk-toggleable {\n",
       "  /* Default theme specific background. It is overwritten whether we have a\n",
       "  specific estimator or a Pipeline/ColumnTransformer */\n",
       "  background-color: var(--sklearn-color-background);\n",
       "}\n",
       "\n",
       "/* Toggleable label */\n",
       "#sk-container-id-1 label.sk-toggleable__label {\n",
       "  cursor: pointer;\n",
       "  display: block;\n",
       "  width: 100%;\n",
       "  margin-bottom: 0;\n",
       "  padding: 0.5em;\n",
       "  box-sizing: border-box;\n",
       "  text-align: center;\n",
       "}\n",
       "\n",
       "#sk-container-id-1 label.sk-toggleable__label-arrow:before {\n",
       "  /* Arrow on the left of the label */\n",
       "  content: \"▸\";\n",
       "  float: left;\n",
       "  margin-right: 0.25em;\n",
       "  color: var(--sklearn-color-icon);\n",
       "}\n",
       "\n",
       "#sk-container-id-1 label.sk-toggleable__label-arrow:hover:before {\n",
       "  color: var(--sklearn-color-text);\n",
       "}\n",
       "\n",
       "/* Toggleable content - dropdown */\n",
       "\n",
       "#sk-container-id-1 div.sk-toggleable__content {\n",
       "  max-height: 0;\n",
       "  max-width: 0;\n",
       "  overflow: hidden;\n",
       "  text-align: left;\n",
       "  /* unfitted */\n",
       "  background-color: var(--sklearn-color-unfitted-level-0);\n",
       "}\n",
       "\n",
       "#sk-container-id-1 div.sk-toggleable__content.fitted {\n",
       "  /* fitted */\n",
       "  background-color: var(--sklearn-color-fitted-level-0);\n",
       "}\n",
       "\n",
       "#sk-container-id-1 div.sk-toggleable__content pre {\n",
       "  margin: 0.2em;\n",
       "  border-radius: 0.25em;\n",
       "  color: var(--sklearn-color-text);\n",
       "  /* unfitted */\n",
       "  background-color: var(--sklearn-color-unfitted-level-0);\n",
       "}\n",
       "\n",
       "#sk-container-id-1 div.sk-toggleable__content.fitted pre {\n",
       "  /* unfitted */\n",
       "  background-color: var(--sklearn-color-fitted-level-0);\n",
       "}\n",
       "\n",
       "#sk-container-id-1 input.sk-toggleable__control:checked~div.sk-toggleable__content {\n",
       "  /* Expand drop-down */\n",
       "  max-height: 200px;\n",
       "  max-width: 100%;\n",
       "  overflow: auto;\n",
       "}\n",
       "\n",
       "#sk-container-id-1 input.sk-toggleable__control:checked~label.sk-toggleable__label-arrow:before {\n",
       "  content: \"▾\";\n",
       "}\n",
       "\n",
       "/* Pipeline/ColumnTransformer-specific style */\n",
       "\n",
       "#sk-container-id-1 div.sk-label input.sk-toggleable__control:checked~label.sk-toggleable__label {\n",
       "  color: var(--sklearn-color-text);\n",
       "  background-color: var(--sklearn-color-unfitted-level-2);\n",
       "}\n",
       "\n",
       "#sk-container-id-1 div.sk-label.fitted input.sk-toggleable__control:checked~label.sk-toggleable__label {\n",
       "  background-color: var(--sklearn-color-fitted-level-2);\n",
       "}\n",
       "\n",
       "/* Estimator-specific style */\n",
       "\n",
       "/* Colorize estimator box */\n",
       "#sk-container-id-1 div.sk-estimator input.sk-toggleable__control:checked~label.sk-toggleable__label {\n",
       "  /* unfitted */\n",
       "  background-color: var(--sklearn-color-unfitted-level-2);\n",
       "}\n",
       "\n",
       "#sk-container-id-1 div.sk-estimator.fitted input.sk-toggleable__control:checked~label.sk-toggleable__label {\n",
       "  /* fitted */\n",
       "  background-color: var(--sklearn-color-fitted-level-2);\n",
       "}\n",
       "\n",
       "#sk-container-id-1 div.sk-label label.sk-toggleable__label,\n",
       "#sk-container-id-1 div.sk-label label {\n",
       "  /* The background is the default theme color */\n",
       "  color: var(--sklearn-color-text-on-default-background);\n",
       "}\n",
       "\n",
       "/* On hover, darken the color of the background */\n",
       "#sk-container-id-1 div.sk-label:hover label.sk-toggleable__label {\n",
       "  color: var(--sklearn-color-text);\n",
       "  background-color: var(--sklearn-color-unfitted-level-2);\n",
       "}\n",
       "\n",
       "/* Label box, darken color on hover, fitted */\n",
       "#sk-container-id-1 div.sk-label.fitted:hover label.sk-toggleable__label.fitted {\n",
       "  color: var(--sklearn-color-text);\n",
       "  background-color: var(--sklearn-color-fitted-level-2);\n",
       "}\n",
       "\n",
       "/* Estimator label */\n",
       "\n",
       "#sk-container-id-1 div.sk-label label {\n",
       "  font-family: monospace;\n",
       "  font-weight: bold;\n",
       "  display: inline-block;\n",
       "  line-height: 1.2em;\n",
       "}\n",
       "\n",
       "#sk-container-id-1 div.sk-label-container {\n",
       "  text-align: center;\n",
       "}\n",
       "\n",
       "/* Estimator-specific */\n",
       "#sk-container-id-1 div.sk-estimator {\n",
       "  font-family: monospace;\n",
       "  border: 1px dotted var(--sklearn-color-border-box);\n",
       "  border-radius: 0.25em;\n",
       "  box-sizing: border-box;\n",
       "  margin-bottom: 0.5em;\n",
       "  /* unfitted */\n",
       "  background-color: var(--sklearn-color-unfitted-level-0);\n",
       "}\n",
       "\n",
       "#sk-container-id-1 div.sk-estimator.fitted {\n",
       "  /* fitted */\n",
       "  background-color: var(--sklearn-color-fitted-level-0);\n",
       "}\n",
       "\n",
       "/* on hover */\n",
       "#sk-container-id-1 div.sk-estimator:hover {\n",
       "  /* unfitted */\n",
       "  background-color: var(--sklearn-color-unfitted-level-2);\n",
       "}\n",
       "\n",
       "#sk-container-id-1 div.sk-estimator.fitted:hover {\n",
       "  /* fitted */\n",
       "  background-color: var(--sklearn-color-fitted-level-2);\n",
       "}\n",
       "\n",
       "/* Specification for estimator info (e.g. \"i\" and \"?\") */\n",
       "\n",
       "/* Common style for \"i\" and \"?\" */\n",
       "\n",
       ".sk-estimator-doc-link,\n",
       "a:link.sk-estimator-doc-link,\n",
       "a:visited.sk-estimator-doc-link {\n",
       "  float: right;\n",
       "  font-size: smaller;\n",
       "  line-height: 1em;\n",
       "  font-family: monospace;\n",
       "  background-color: var(--sklearn-color-background);\n",
       "  border-radius: 1em;\n",
       "  height: 1em;\n",
       "  width: 1em;\n",
       "  text-decoration: none !important;\n",
       "  margin-left: 1ex;\n",
       "  /* unfitted */\n",
       "  border: var(--sklearn-color-unfitted-level-1) 1pt solid;\n",
       "  color: var(--sklearn-color-unfitted-level-1);\n",
       "}\n",
       "\n",
       ".sk-estimator-doc-link.fitted,\n",
       "a:link.sk-estimator-doc-link.fitted,\n",
       "a:visited.sk-estimator-doc-link.fitted {\n",
       "  /* fitted */\n",
       "  border: var(--sklearn-color-fitted-level-1) 1pt solid;\n",
       "  color: var(--sklearn-color-fitted-level-1);\n",
       "}\n",
       "\n",
       "/* On hover */\n",
       "div.sk-estimator:hover .sk-estimator-doc-link:hover,\n",
       ".sk-estimator-doc-link:hover,\n",
       "div.sk-label-container:hover .sk-estimator-doc-link:hover,\n",
       ".sk-estimator-doc-link:hover {\n",
       "  /* unfitted */\n",
       "  background-color: var(--sklearn-color-unfitted-level-3);\n",
       "  color: var(--sklearn-color-background);\n",
       "  text-decoration: none;\n",
       "}\n",
       "\n",
       "div.sk-estimator.fitted:hover .sk-estimator-doc-link.fitted:hover,\n",
       ".sk-estimator-doc-link.fitted:hover,\n",
       "div.sk-label-container:hover .sk-estimator-doc-link.fitted:hover,\n",
       ".sk-estimator-doc-link.fitted:hover {\n",
       "  /* fitted */\n",
       "  background-color: var(--sklearn-color-fitted-level-3);\n",
       "  color: var(--sklearn-color-background);\n",
       "  text-decoration: none;\n",
       "}\n",
       "\n",
       "/* Span, style for the box shown on hovering the info icon */\n",
       ".sk-estimator-doc-link span {\n",
       "  display: none;\n",
       "  z-index: 9999;\n",
       "  position: relative;\n",
       "  font-weight: normal;\n",
       "  right: .2ex;\n",
       "  padding: .5ex;\n",
       "  margin: .5ex;\n",
       "  width: min-content;\n",
       "  min-width: 20ex;\n",
       "  max-width: 50ex;\n",
       "  color: var(--sklearn-color-text);\n",
       "  box-shadow: 2pt 2pt 4pt #999;\n",
       "  /* unfitted */\n",
       "  background: var(--sklearn-color-unfitted-level-0);\n",
       "  border: .5pt solid var(--sklearn-color-unfitted-level-3);\n",
       "}\n",
       "\n",
       ".sk-estimator-doc-link.fitted span {\n",
       "  /* fitted */\n",
       "  background: var(--sklearn-color-fitted-level-0);\n",
       "  border: var(--sklearn-color-fitted-level-3);\n",
       "}\n",
       "\n",
       ".sk-estimator-doc-link:hover span {\n",
       "  display: block;\n",
       "}\n",
       "\n",
       "/* \"?\"-specific style due to the `<a>` HTML tag */\n",
       "\n",
       "#sk-container-id-1 a.estimator_doc_link {\n",
       "  float: right;\n",
       "  font-size: 1rem;\n",
       "  line-height: 1em;\n",
       "  font-family: monospace;\n",
       "  background-color: var(--sklearn-color-background);\n",
       "  border-radius: 1rem;\n",
       "  height: 1rem;\n",
       "  width: 1rem;\n",
       "  text-decoration: none;\n",
       "  /* unfitted */\n",
       "  color: var(--sklearn-color-unfitted-level-1);\n",
       "  border: var(--sklearn-color-unfitted-level-1) 1pt solid;\n",
       "}\n",
       "\n",
       "#sk-container-id-1 a.estimator_doc_link.fitted {\n",
       "  /* fitted */\n",
       "  border: var(--sklearn-color-fitted-level-1) 1pt solid;\n",
       "  color: var(--sklearn-color-fitted-level-1);\n",
       "}\n",
       "\n",
       "/* On hover */\n",
       "#sk-container-id-1 a.estimator_doc_link:hover {\n",
       "  /* unfitted */\n",
       "  background-color: var(--sklearn-color-unfitted-level-3);\n",
       "  color: var(--sklearn-color-background);\n",
       "  text-decoration: none;\n",
       "}\n",
       "\n",
       "#sk-container-id-1 a.estimator_doc_link.fitted:hover {\n",
       "  /* fitted */\n",
       "  background-color: var(--sklearn-color-fitted-level-3);\n",
       "}\n",
       "</style><div id=\"sk-container-id-1\" class=\"sk-top-container\"><div class=\"sk-text-repr-fallback\"><pre>SelectKBest(k=&#x27;all&#x27;, score_func=&lt;function f_regression at 0x0000026414DC72E0&gt;)</pre><b>In a Jupyter environment, please rerun this cell to show the HTML representation or trust the notebook. <br />On GitHub, the HTML representation is unable to render, please try loading this page with nbviewer.org.</b></div><div class=\"sk-container\" hidden><div class=\"sk-item\"><div class=\"sk-estimator fitted sk-toggleable\"><input class=\"sk-toggleable__control sk-hidden--visually\" id=\"sk-estimator-id-1\" type=\"checkbox\" checked><label for=\"sk-estimator-id-1\" class=\"sk-toggleable__label fitted sk-toggleable__label-arrow fitted\">&nbsp;&nbsp;SelectKBest<a class=\"sk-estimator-doc-link fitted\" rel=\"noreferrer\" target=\"_blank\" href=\"https://scikit-learn.org/1.5/modules/generated/sklearn.feature_selection.SelectKBest.html\">?<span>Documentation for SelectKBest</span></a><span class=\"sk-estimator-doc-link fitted\">i<span>Fitted</span></span></label><div class=\"sk-toggleable__content fitted\"><pre>SelectKBest(k=&#x27;all&#x27;, score_func=&lt;function f_regression at 0x0000026414DC72E0&gt;)</pre></div> </div></div></div></div>"
      ],
      "text/plain": [
       "SelectKBest(k='all', score_func=<function f_regression at 0x0000026414DC72E0>)"
      ]
     },
     "execution_count": 121,
     "metadata": {},
     "output_type": "execute_result"
    }
   ],
   "source": [
    "# SelectKBest with f_regression\n",
    "x = df.drop(columns=['viewership'])  \n",
    "y = df['viewership']\n",
    "\n",
    "\n",
    "k_best = SelectKBest(score_func=f_regression, k='all') \n",
    "k_best.fit(x, y)"
   ]
  },
  {
   "cell_type": "code",
   "execution_count": 123,
   "id": "76889989-ba51-4fdb-b30e-0e936e3cd19c",
   "metadata": {},
   "outputs": [
    {
     "name": "stdout",
     "output_type": "stream",
     "text": [
      "                                  Feature   F_Score\n",
      "26                         sport_football  8.515138\n",
      "11                        league_name_ipl  3.823593\n",
      "2                                top_team  3.431445\n",
      "24                       sport_basketball  2.020826\n",
      "21                          country_italy  1.544343\n",
      "18                         country_france  1.076995\n",
      "5                         log_total_teams  1.035581\n",
      "15                        league_name_nfl  0.874694\n",
      "20                          country_india  0.636743\n",
      "13                    league_name_ligue_1  0.563329\n",
      "16             league_name_premier_league  0.351567\n",
      "1               average_player_salary_usd  0.349591\n",
      "10   average_player_salary_usd_equal_freq  0.237624\n",
      "12                    league_name_la_liga  0.213991\n",
      "14                        league_name_nba  0.206164\n",
      "7                 revenue_usd_equal_width  0.203028\n",
      "9   average_player_salary_usd_equal_width  0.190008\n",
      "0                             revenue_usd  0.109673\n",
      "8                  revenue_usd_equal_freq  0.067948\n",
      "19                        country_germany  0.042563\n",
      "17                    league_name_serie_a  0.031434\n",
      "25                          sport_cricket  0.008451\n",
      "22                          country_spain  0.008100\n",
      "3                             total_teams  0.005269\n",
      "6                      power_founded_year  0.000887\n",
      "4                            founded_year  0.000501\n",
      "23                            country_usa  0.000023\n"
     ]
    }
   ],
   "source": [
    "# Get Feature Scores\n",
    "feature_scores = pd.DataFrame({'Feature': x.columns, 'F_Score': k_best.scores_})\n",
    "\n",
    "# Sort by Importance\n",
    "feature_scores = feature_scores.sort_values(by='F_Score', ascending=False)\n",
    "\n",
    "# Display Results\n",
    "print(feature_scores)"
   ]
  },
  {
   "cell_type": "code",
   "execution_count": 125,
   "id": "84f2f4c3-92f7-4922-b4e2-3ec6f1d54981",
   "metadata": {},
   "outputs": [],
   "source": [
    "# scaling\n",
    "scaler_x=StandardScaler()\n",
    "scaler_y=StandardScaler()\n",
    "x_scaled=scaler_x.fit_transform(x)\n",
    "y_scaled=scaler_y.fit_transform(y.values.reshape(-1,1))"
   ]
  },
  {
   "cell_type": "markdown",
   "id": "5590ec8e-5fd3-4623-9f57-c01906f63462",
   "metadata": {},
   "source": [
    "# model selection"
   ]
  },
  {
   "cell_type": "code",
   "execution_count": 130,
   "id": "728f138e-93b6-4b29-ad5e-5ba9012150a9",
   "metadata": {},
   "outputs": [
    {
     "name": "stdout",
     "output_type": "stream",
     "text": [
      "<class 'pandas.core.frame.DataFrame'>\n",
      "RangeIndex: 700 entries, 0 to 699\n",
      "Data columns (total 28 columns):\n",
      " #   Column                                 Non-Null Count  Dtype  \n",
      "---  ------                                 --------------  -----  \n",
      " 0   revenue_usd                            700 non-null    float64\n",
      " 1   average_player_salary_usd              700 non-null    float32\n",
      " 2   top_team                               700 non-null    int32  \n",
      " 3   total_teams                            700 non-null    int16  \n",
      " 4   founded_year                           700 non-null    float32\n",
      " 5   viewership                             700 non-null    float32\n",
      " 6   log_total_teams                        700 non-null    float32\n",
      " 7   power_founded_year                     700 non-null    float32\n",
      " 8   revenue_usd_equal_width                700 non-null    float32\n",
      " 9   revenue_usd_equal_freq                 700 non-null    float32\n",
      " 10  average_player_salary_usd_equal_width  700 non-null    float32\n",
      " 11  average_player_salary_usd_equal_freq   700 non-null    float32\n",
      " 12  league_name_ipl                        700 non-null    int32  \n",
      " 13  league_name_la_liga                    700 non-null    int32  \n",
      " 14  league_name_ligue_1                    700 non-null    int32  \n",
      " 15  league_name_nba                        700 non-null    int32  \n",
      " 16  league_name_nfl                        700 non-null    int32  \n",
      " 17  league_name_premier_league             700 non-null    int32  \n",
      " 18  league_name_serie_a                    700 non-null    int32  \n",
      " 19  country_france                         700 non-null    int32  \n",
      " 20  country_germany                        700 non-null    int32  \n",
      " 21  country_india                          700 non-null    int32  \n",
      " 22  country_italy                          700 non-null    int32  \n",
      " 23  country_spain                          700 non-null    int32  \n",
      " 24  country_usa                            700 non-null    int32  \n",
      " 25  sport_basketball                       700 non-null    int32  \n",
      " 26  sport_cricket                          700 non-null    int32  \n",
      " 27  sport_football                         700 non-null    int32  \n",
      "dtypes: float32(9), float64(1), int16(1), int32(17)\n",
      "memory usage: 78.1 KB\n"
     ]
    }
   ],
   "source": [
    "df.info()"
   ]
  },
  {
   "cell_type": "code",
   "execution_count": 132,
   "id": "a4f2566f-fbca-4fc4-94a7-e88f0dd6f074",
   "metadata": {},
   "outputs": [],
   "source": [
    "x=df.drop(columns=['viewership'])"
   ]
  },
  {
   "cell_type": "code",
   "execution_count": 134,
   "id": "3ea2619e-d5ab-440e-90a8-e41f151c61a8",
   "metadata": {},
   "outputs": [],
   "source": [
    "y=df['viewership']"
   ]
  },
  {
   "cell_type": "code",
   "execution_count": 136,
   "id": "1b6ae660-96c9-4223-90f3-d1e90f8aa6d2",
   "metadata": {},
   "outputs": [],
   "source": [
    "x_train,x_temp,y_train,y_temp=train_test_split(x,y,test_size=0.2,random_state=42)\n",
    "x_test,x_val,y_test,y_val=train_test_split(x_temp,y_temp,test_size=0.5,random_state=42)"
   ]
  },
  {
   "cell_type": "code",
   "execution_count": 138,
   "id": "1d470176-5573-43e9-92c3-6b00ee52a0b5",
   "metadata": {},
   "outputs": [],
   "source": [
    "# Scaling\n",
    "scaler_x = StandardScaler()\n",
    "scaler_y = StandardScaler()\n",
    "\n",
    "x_train_scaled = scaler_x.fit_transform(x_train)\n",
    "x_val_scaled = scaler_x.transform(x_val)\n",
    "x_test_scaled = scaler_x.transform(x_test)\n",
    "\n",
    "y_train_scaled = scaler_y.fit_transform(y_train.values.reshape(-1, 1))\n",
    "y_val_scaled = scaler_y.transform(y_val.values.reshape(-1, 1))\n",
    "y_test_scaled = scaler_y.transform(y_test.values.reshape(-1, 1))"
   ]
  },
  {
   "cell_type": "code",
   "execution_count": 140,
   "id": "68c53c6a-5573-4c4a-9496-74463053a46e",
   "metadata": {},
   "outputs": [
    {
     "data": {
      "text/plain": [
       "((560, 27), (70, 27), (70, 27))"
      ]
     },
     "execution_count": 140,
     "metadata": {},
     "output_type": "execute_result"
    }
   ],
   "source": [
    "x_train.shape,x_test.shape,x_val.shape"
   ]
  },
  {
   "cell_type": "code",
   "execution_count": 142,
   "id": "4668744c-85b4-4ec1-9b5b-444e352d9e1b",
   "metadata": {},
   "outputs": [
    {
     "name": "stdout",
     "output_type": "stream",
     "text": [
      "Mean Squared Error: 17224.767867628707\n",
      "R2 Score: 0.03686387566827776\n"
     ]
    }
   ],
   "source": [
    "#Linear Regression\n",
    "model=LinearRegression()\n",
    "model.fit(x_train,y_train)\n",
    "y_pred=model.predict(x_test)\n",
    "mse=mean_squared_error(y_test,y_pred)\n",
    "r2=r2_score(y_test,y_pred)\n",
    "print('Mean Squared Error:',mse)\n",
    "print('R2 Score:',r2)"
   ]
  },
  {
   "cell_type": "code",
   "execution_count": 144,
   "id": "09101f9a-976f-4202-b864-2f584e66326a",
   "metadata": {},
   "outputs": [
    {
     "name": "stdout",
     "output_type": "stream",
     "text": [
      "Mean Squared Error: 0.90083024305013\n",
      "R2 Score: 0.03686387613025177\n"
     ]
    }
   ],
   "source": [
    "#Linear Regression scaled\n",
    "model=LinearRegression()\n",
    "model.fit(x_train_scaled,y_train_scaled)\n",
    "y_pred=model.predict(x_test_scaled)\n",
    "mse=mean_squared_error(y_test_scaled,y_pred)\n",
    "r2=r2_score(y_test_scaled,y_pred)\n",
    "print('Mean Squared Error:',mse)\n",
    "print('R2 Score:',r2)"
   ]
  },
  {
   "cell_type": "code",
   "execution_count": 146,
   "id": "ee282b2c-e78a-4cf2-8665-fa4bf0cd7ca4",
   "metadata": {},
   "outputs": [
    {
     "name": "stdout",
     "output_type": "stream",
     "text": [
      "Mean Squared Error: 30859.5735581925\n",
      "R2 Score: -0.7255367563603035\n"
     ]
    }
   ],
   "source": [
    "# Decision Tree\n",
    "model = DecisionTreeRegressor(random_state=42)\n",
    "model.fit(x_train, y_train)\n",
    "y_pred = model.predict(x_test)\n",
    "mse = mean_squared_error(y_test, y_pred)\n",
    "r2 = r2_score(y_test, y_pred)\n",
    "print('Mean Squared Error:', mse)\n",
    "print('R2 Score:', r2)"
   ]
  },
  {
   "cell_type": "code",
   "execution_count": 148,
   "id": "29cb4609-62d1-4b7b-9128-d9bfaa63302a",
   "metadata": {},
   "outputs": [
    {
     "name": "stdout",
     "output_type": "stream",
     "text": [
      "Mean Squared Error: 1.6139107119489693\n",
      "R2 Score: -0.7255367694087229\n"
     ]
    }
   ],
   "source": [
    "# Decision Tree Scaled\n",
    "model = DecisionTreeRegressor(random_state=42)\n",
    "model.fit(x_train_scaled, y_train_scaled)\n",
    "y_pred = model.predict(x_test_scaled)\n",
    "mse = mean_squared_error(y_test_scaled, y_pred)\n",
    "r2 = r2_score(y_test_scaled, y_pred)\n",
    "print('Mean Squared Error:', mse)\n",
    "print('R2 Score:', r2)"
   ]
  },
  {
   "cell_type": "code",
   "execution_count": 150,
   "id": "dab55870-0af8-4d39-a693-e8ba782cdad7",
   "metadata": {},
   "outputs": [
    {
     "name": "stdout",
     "output_type": "stream",
     "text": [
      "Mean Squared Error: 20171.38088485011\n",
      "R2 Score: -0.12789825425543455\n"
     ]
    }
   ],
   "source": [
    "# Random Forest\n",
    "model = RandomForestRegressor(random_state=42)\n",
    "model.fit(x_train, y_train)\n",
    "y_pred = model.predict(x_test)\n",
    "mse = mean_squared_error(y_test, y_pred)\n",
    "r2 = r2_score(y_test, y_pred)\n",
    "print('Mean Squared Error:', mse)\n",
    "print('R2 Score:', r2)"
   ]
  },
  {
   "cell_type": "code",
   "execution_count": 152,
   "id": "0872b547-ce4e-4b23-85e3-a21fd0c38b4e",
   "metadata": {},
   "outputs": [
    {
     "name": "stderr",
     "output_type": "stream",
     "text": [
      "C:\\Users\\user\\anaconda3\\Lib\\site-packages\\sklearn\\base.py:1473: DataConversionWarning: A column-vector y was passed when a 1d array was expected. Please change the shape of y to (n_samples,), for example using ravel().\n",
      "  return fit_method(estimator, *args, **kwargs)\n"
     ]
    },
    {
     "name": "stdout",
     "output_type": "stream",
     "text": [
      "Mean Squared Error: 1.0582027078589011\n",
      "R2 Score: -0.13139324770535787\n"
     ]
    }
   ],
   "source": [
    "# Random Forest scaled\n",
    "model = RandomForestRegressor(random_state=42)\n",
    "model.fit(x_train_scaled, y_train_scaled)\n",
    "y_pred = model.predict(x_test_scaled)\n",
    "mse = mean_squared_error(y_test_scaled, y_pred)\n",
    "r2 = r2_score(y_test_scaled, y_pred)\n",
    "print('Mean Squared Error:', mse)\n",
    "print('R2 Score:', r2)"
   ]
  },
  {
   "cell_type": "code",
   "execution_count": null,
   "id": "96934eaa-6e4a-4239-911b-aa27d15c4b0e",
   "metadata": {},
   "outputs": [],
   "source": []
  }
 ],
 "metadata": {
  "kernelspec": {
   "display_name": "Python [conda env:base] *",
   "language": "python",
   "name": "conda-base-py"
  },
  "language_info": {
   "codemirror_mode": {
    "name": "ipython",
    "version": 3
   },
   "file_extension": ".py",
   "mimetype": "text/x-python",
   "name": "python",
   "nbconvert_exporter": "python",
   "pygments_lexer": "ipython3",
   "version": "3.12.7"
  }
 },
 "nbformat": 4,
 "nbformat_minor": 5
}
